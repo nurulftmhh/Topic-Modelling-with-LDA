{
  "nbformat": 4,
  "nbformat_minor": 0,
  "metadata": {
    "colab": {
      "provenance": []
    },
    "kernelspec": {
      "name": "python3",
      "display_name": "Python 3"
    },
    "language_info": {
      "name": "python"
    },
    "widgets": {
      "application/vnd.jupyter.widget-state+json": {
        "5e6e69b390144bbbaf9120a81c0ac683": {
          "model_module": "@jupyter-widgets/controls",
          "model_name": "HBoxModel",
          "model_module_version": "1.5.0",
          "state": {
            "_dom_classes": [],
            "_model_module": "@jupyter-widgets/controls",
            "_model_module_version": "1.5.0",
            "_model_name": "HBoxModel",
            "_view_count": null,
            "_view_module": "@jupyter-widgets/controls",
            "_view_module_version": "1.5.0",
            "_view_name": "HBoxView",
            "box_style": "",
            "children": [
              "IPY_MODEL_30857837a0b242cd91e373797a91ea46",
              "IPY_MODEL_496afe0e34e64f50b06bfd2f87aefa45",
              "IPY_MODEL_663ae2a1ef994f648f9d728fabe20632"
            ],
            "layout": "IPY_MODEL_ff050cd7dee5421b9c0d0fd591d57d8b"
          }
        },
        "30857837a0b242cd91e373797a91ea46": {
          "model_module": "@jupyter-widgets/controls",
          "model_name": "HTMLModel",
          "model_module_version": "1.5.0",
          "state": {
            "_dom_classes": [],
            "_model_module": "@jupyter-widgets/controls",
            "_model_module_version": "1.5.0",
            "_model_name": "HTMLModel",
            "_view_count": null,
            "_view_module": "@jupyter-widgets/controls",
            "_view_module_version": "1.5.0",
            "_view_name": "HTMLView",
            "description": "",
            "description_tooltip": null,
            "layout": "IPY_MODEL_4ed4e8dc2b01461490ea0cdbf9ae0271",
            "placeholder": "​",
            "style": "IPY_MODEL_ec3d5b3ddbdc4d5f8380b74d5bc75330",
            "value": "Pandas Apply: 100%"
          }
        },
        "496afe0e34e64f50b06bfd2f87aefa45": {
          "model_module": "@jupyter-widgets/controls",
          "model_name": "FloatProgressModel",
          "model_module_version": "1.5.0",
          "state": {
            "_dom_classes": [],
            "_model_module": "@jupyter-widgets/controls",
            "_model_module_version": "1.5.0",
            "_model_name": "FloatProgressModel",
            "_view_count": null,
            "_view_module": "@jupyter-widgets/controls",
            "_view_module_version": "1.5.0",
            "_view_name": "ProgressView",
            "bar_style": "success",
            "description": "",
            "description_tooltip": null,
            "layout": "IPY_MODEL_702e072415034938a0a69abfaea83220",
            "max": 348,
            "min": 0,
            "orientation": "horizontal",
            "style": "IPY_MODEL_5ab10db9f0f8409c88ff2ddc05dcf072",
            "value": 348
          }
        },
        "663ae2a1ef994f648f9d728fabe20632": {
          "model_module": "@jupyter-widgets/controls",
          "model_name": "HTMLModel",
          "model_module_version": "1.5.0",
          "state": {
            "_dom_classes": [],
            "_model_module": "@jupyter-widgets/controls",
            "_model_module_version": "1.5.0",
            "_model_name": "HTMLModel",
            "_view_count": null,
            "_view_module": "@jupyter-widgets/controls",
            "_view_module_version": "1.5.0",
            "_view_name": "HTMLView",
            "description": "",
            "description_tooltip": null,
            "layout": "IPY_MODEL_f66c1d006bfb4f9397b311e682c3fb38",
            "placeholder": "​",
            "style": "IPY_MODEL_392a347d132e428c9df20204a6d76af3",
            "value": " 348/348 [00:00&lt;00:00, 10628.08it/s]"
          }
        },
        "ff050cd7dee5421b9c0d0fd591d57d8b": {
          "model_module": "@jupyter-widgets/base",
          "model_name": "LayoutModel",
          "model_module_version": "1.2.0",
          "state": {
            "_model_module": "@jupyter-widgets/base",
            "_model_module_version": "1.2.0",
            "_model_name": "LayoutModel",
            "_view_count": null,
            "_view_module": "@jupyter-widgets/base",
            "_view_module_version": "1.2.0",
            "_view_name": "LayoutView",
            "align_content": null,
            "align_items": null,
            "align_self": null,
            "border": null,
            "bottom": null,
            "display": null,
            "flex": null,
            "flex_flow": null,
            "grid_area": null,
            "grid_auto_columns": null,
            "grid_auto_flow": null,
            "grid_auto_rows": null,
            "grid_column": null,
            "grid_gap": null,
            "grid_row": null,
            "grid_template_areas": null,
            "grid_template_columns": null,
            "grid_template_rows": null,
            "height": null,
            "justify_content": null,
            "justify_items": null,
            "left": null,
            "margin": null,
            "max_height": null,
            "max_width": null,
            "min_height": null,
            "min_width": null,
            "object_fit": null,
            "object_position": null,
            "order": null,
            "overflow": null,
            "overflow_x": null,
            "overflow_y": null,
            "padding": null,
            "right": null,
            "top": null,
            "visibility": null,
            "width": null
          }
        },
        "4ed4e8dc2b01461490ea0cdbf9ae0271": {
          "model_module": "@jupyter-widgets/base",
          "model_name": "LayoutModel",
          "model_module_version": "1.2.0",
          "state": {
            "_model_module": "@jupyter-widgets/base",
            "_model_module_version": "1.2.0",
            "_model_name": "LayoutModel",
            "_view_count": null,
            "_view_module": "@jupyter-widgets/base",
            "_view_module_version": "1.2.0",
            "_view_name": "LayoutView",
            "align_content": null,
            "align_items": null,
            "align_self": null,
            "border": null,
            "bottom": null,
            "display": null,
            "flex": null,
            "flex_flow": null,
            "grid_area": null,
            "grid_auto_columns": null,
            "grid_auto_flow": null,
            "grid_auto_rows": null,
            "grid_column": null,
            "grid_gap": null,
            "grid_row": null,
            "grid_template_areas": null,
            "grid_template_columns": null,
            "grid_template_rows": null,
            "height": null,
            "justify_content": null,
            "justify_items": null,
            "left": null,
            "margin": null,
            "max_height": null,
            "max_width": null,
            "min_height": null,
            "min_width": null,
            "object_fit": null,
            "object_position": null,
            "order": null,
            "overflow": null,
            "overflow_x": null,
            "overflow_y": null,
            "padding": null,
            "right": null,
            "top": null,
            "visibility": null,
            "width": null
          }
        },
        "ec3d5b3ddbdc4d5f8380b74d5bc75330": {
          "model_module": "@jupyter-widgets/controls",
          "model_name": "DescriptionStyleModel",
          "model_module_version": "1.5.0",
          "state": {
            "_model_module": "@jupyter-widgets/controls",
            "_model_module_version": "1.5.0",
            "_model_name": "DescriptionStyleModel",
            "_view_count": null,
            "_view_module": "@jupyter-widgets/base",
            "_view_module_version": "1.2.0",
            "_view_name": "StyleView",
            "description_width": ""
          }
        },
        "702e072415034938a0a69abfaea83220": {
          "model_module": "@jupyter-widgets/base",
          "model_name": "LayoutModel",
          "model_module_version": "1.2.0",
          "state": {
            "_model_module": "@jupyter-widgets/base",
            "_model_module_version": "1.2.0",
            "_model_name": "LayoutModel",
            "_view_count": null,
            "_view_module": "@jupyter-widgets/base",
            "_view_module_version": "1.2.0",
            "_view_name": "LayoutView",
            "align_content": null,
            "align_items": null,
            "align_self": null,
            "border": null,
            "bottom": null,
            "display": null,
            "flex": null,
            "flex_flow": null,
            "grid_area": null,
            "grid_auto_columns": null,
            "grid_auto_flow": null,
            "grid_auto_rows": null,
            "grid_column": null,
            "grid_gap": null,
            "grid_row": null,
            "grid_template_areas": null,
            "grid_template_columns": null,
            "grid_template_rows": null,
            "height": null,
            "justify_content": null,
            "justify_items": null,
            "left": null,
            "margin": null,
            "max_height": null,
            "max_width": null,
            "min_height": null,
            "min_width": null,
            "object_fit": null,
            "object_position": null,
            "order": null,
            "overflow": null,
            "overflow_x": null,
            "overflow_y": null,
            "padding": null,
            "right": null,
            "top": null,
            "visibility": null,
            "width": null
          }
        },
        "5ab10db9f0f8409c88ff2ddc05dcf072": {
          "model_module": "@jupyter-widgets/controls",
          "model_name": "ProgressStyleModel",
          "model_module_version": "1.5.0",
          "state": {
            "_model_module": "@jupyter-widgets/controls",
            "_model_module_version": "1.5.0",
            "_model_name": "ProgressStyleModel",
            "_view_count": null,
            "_view_module": "@jupyter-widgets/base",
            "_view_module_version": "1.2.0",
            "_view_name": "StyleView",
            "bar_color": null,
            "description_width": ""
          }
        },
        "f66c1d006bfb4f9397b311e682c3fb38": {
          "model_module": "@jupyter-widgets/base",
          "model_name": "LayoutModel",
          "model_module_version": "1.2.0",
          "state": {
            "_model_module": "@jupyter-widgets/base",
            "_model_module_version": "1.2.0",
            "_model_name": "LayoutModel",
            "_view_count": null,
            "_view_module": "@jupyter-widgets/base",
            "_view_module_version": "1.2.0",
            "_view_name": "LayoutView",
            "align_content": null,
            "align_items": null,
            "align_self": null,
            "border": null,
            "bottom": null,
            "display": null,
            "flex": null,
            "flex_flow": null,
            "grid_area": null,
            "grid_auto_columns": null,
            "grid_auto_flow": null,
            "grid_auto_rows": null,
            "grid_column": null,
            "grid_gap": null,
            "grid_row": null,
            "grid_template_areas": null,
            "grid_template_columns": null,
            "grid_template_rows": null,
            "height": null,
            "justify_content": null,
            "justify_items": null,
            "left": null,
            "margin": null,
            "max_height": null,
            "max_width": null,
            "min_height": null,
            "min_width": null,
            "object_fit": null,
            "object_position": null,
            "order": null,
            "overflow": null,
            "overflow_x": null,
            "overflow_y": null,
            "padding": null,
            "right": null,
            "top": null,
            "visibility": null,
            "width": null
          }
        },
        "392a347d132e428c9df20204a6d76af3": {
          "model_module": "@jupyter-widgets/controls",
          "model_name": "DescriptionStyleModel",
          "model_module_version": "1.5.0",
          "state": {
            "_model_module": "@jupyter-widgets/controls",
            "_model_module_version": "1.5.0",
            "_model_name": "DescriptionStyleModel",
            "_view_count": null,
            "_view_module": "@jupyter-widgets/base",
            "_view_module_version": "1.2.0",
            "_view_name": "StyleView",
            "description_width": ""
          }
        }
      }
    }
  },
  "cells": [
    {
      "cell_type": "markdown",
      "metadata": {
        "id": "Us-FVDTlMj1d"
      },
      "source": [
        "# LDA Bahasa Indonesia"
      ]
    },
    {
      "cell_type": "markdown",
      "metadata": {
        "id": "VrlwHBpPslgu"
      },
      "source": [
        "Instalasi beberapa library yang diperlukan, untuk NLTK dan GENSIM sudah include di Colab"
      ]
    },
    {
      "cell_type": "code",
      "metadata": {
        "id": "Jb09FJAq58To",
        "colab": {
          "base_uri": "https://localhost:8080/"
        },
        "outputId": "dbd0e0c5-5902-45c5-8323-fd4a362664e1"
      },
      "source": [
        "pip install --upgrade gensim"
      ],
      "execution_count": null,
      "outputs": [
        {
          "output_type": "stream",
          "name": "stdout",
          "text": [
            "Looking in indexes: https://pypi.org/simple, https://us-python.pkg.dev/colab-wheels/public/simple/\n",
            "Requirement already satisfied: gensim in /usr/local/lib/python3.7/dist-packages (3.6.0)\n",
            "Collecting gensim\n",
            "  Downloading gensim-4.2.0-cp37-cp37m-manylinux_2_12_x86_64.manylinux2010_x86_64.whl (24.1 MB)\n",
            "\u001b[K     |████████████████████████████████| 24.1 MB 1.1 MB/s \n",
            "\u001b[?25hRequirement already satisfied: smart-open>=1.8.1 in /usr/local/lib/python3.7/dist-packages (from gensim) (5.2.1)\n",
            "Requirement already satisfied: numpy>=1.17.0 in /usr/local/lib/python3.7/dist-packages (from gensim) (1.21.6)\n",
            "Requirement already satisfied: scipy>=0.18.1 in /usr/local/lib/python3.7/dist-packages (from gensim) (1.7.3)\n",
            "Installing collected packages: gensim\n",
            "  Attempting uninstall: gensim\n",
            "    Found existing installation: gensim 3.6.0\n",
            "    Uninstalling gensim-3.6.0:\n",
            "      Successfully uninstalled gensim-3.6.0\n",
            "Successfully installed gensim-4.2.0\n"
          ]
        }
      ]
    },
    {
      "cell_type": "code",
      "metadata": {
        "id": "Npfo7KZAsKKT",
        "colab": {
          "base_uri": "https://localhost:8080/"
        },
        "outputId": "09daae7c-6358-486d-cb9f-96cd33cf8ad1"
      },
      "source": [
        "pip install pyldavis==3.2.1"
      ],
      "execution_count": null,
      "outputs": [
        {
          "output_type": "stream",
          "name": "stdout",
          "text": [
            "Looking in indexes: https://pypi.org/simple, https://us-python.pkg.dev/colab-wheels/public/simple/\n",
            "Collecting pyldavis==3.2.1\n",
            "  Downloading pyLDAvis-3.2.1.tar.gz (1.7 MB)\n",
            "\u001b[K     |████████████████████████████████| 1.7 MB 7.1 MB/s \n",
            "\u001b[?25hRequirement already satisfied: wheel>=0.23.0 in /usr/local/lib/python3.7/dist-packages (from pyldavis==3.2.1) (0.37.1)\n",
            "Requirement already satisfied: numpy>=1.9.2 in /usr/local/lib/python3.7/dist-packages (from pyldavis==3.2.1) (1.21.6)\n",
            "Requirement already satisfied: scipy>=0.18.0 in /usr/local/lib/python3.7/dist-packages (from pyldavis==3.2.1) (1.7.3)\n",
            "Requirement already satisfied: joblib>=0.8.4 in /usr/local/lib/python3.7/dist-packages (from pyldavis==3.2.1) (1.2.0)\n",
            "Requirement already satisfied: jinja2>=2.7.2 in /usr/local/lib/python3.7/dist-packages (from pyldavis==3.2.1) (2.11.3)\n",
            "Requirement already satisfied: numexpr in /usr/local/lib/python3.7/dist-packages (from pyldavis==3.2.1) (2.8.3)\n",
            "Requirement already satisfied: future in /usr/local/lib/python3.7/dist-packages (from pyldavis==3.2.1) (0.16.0)\n",
            "Collecting funcy\n",
            "  Downloading funcy-1.17-py2.py3-none-any.whl (33 kB)\n",
            "Requirement already satisfied: pandas>=0.17.0 in /usr/local/lib/python3.7/dist-packages (from pyldavis==3.2.1) (1.3.5)\n",
            "Requirement already satisfied: MarkupSafe>=0.23 in /usr/local/lib/python3.7/dist-packages (from jinja2>=2.7.2->pyldavis==3.2.1) (2.0.1)\n",
            "Requirement already satisfied: python-dateutil>=2.7.3 in /usr/local/lib/python3.7/dist-packages (from pandas>=0.17.0->pyldavis==3.2.1) (2.8.2)\n",
            "Requirement already satisfied: pytz>=2017.3 in /usr/local/lib/python3.7/dist-packages (from pandas>=0.17.0->pyldavis==3.2.1) (2022.4)\n",
            "Requirement already satisfied: six>=1.5 in /usr/local/lib/python3.7/dist-packages (from python-dateutil>=2.7.3->pandas>=0.17.0->pyldavis==3.2.1) (1.15.0)\n",
            "Requirement already satisfied: packaging in /usr/local/lib/python3.7/dist-packages (from numexpr->pyldavis==3.2.1) (21.3)\n",
            "Requirement already satisfied: pyparsing!=3.0.5,>=2.0.2 in /usr/local/lib/python3.7/dist-packages (from packaging->numexpr->pyldavis==3.2.1) (3.0.9)\n",
            "Building wheels for collected packages: pyldavis\n",
            "  Building wheel for pyldavis (setup.py) ... \u001b[?25l\u001b[?25hdone\n",
            "  Created wheel for pyldavis: filename=pyLDAvis-3.2.1-py2.py3-none-any.whl size=136187 sha256=e8f236b048f670fb17e783487fce84c998eb9b6de8642eec8043d7b3e2b25c44\n",
            "  Stored in directory: /root/.cache/pip/wheels/c6/ee/a6/7c17a63623f940dff0b9cbd7e48a27543f088fa55a7d2b62d0\n",
            "Successfully built pyldavis\n",
            "Installing collected packages: funcy, pyldavis\n",
            "Successfully installed funcy-1.17 pyldavis-3.2.1\n"
          ]
        }
      ]
    },
    {
      "cell_type": "code",
      "metadata": {
        "id": "RZFgf793QUdr",
        "colab": {
          "base_uri": "https://localhost:8080/"
        },
        "outputId": "e60728ac-2140-41da-bc8b-d0c4d2a6cc80"
      },
      "source": [
        "pip install Sastrawi"
      ],
      "execution_count": null,
      "outputs": [
        {
          "output_type": "stream",
          "name": "stdout",
          "text": [
            "Looking in indexes: https://pypi.org/simple, https://us-python.pkg.dev/colab-wheels/public/simple/\n",
            "Collecting Sastrawi\n",
            "  Downloading Sastrawi-1.0.1-py2.py3-none-any.whl (209 kB)\n",
            "\u001b[K     |████████████████████████████████| 209 kB 7.7 MB/s \n",
            "\u001b[?25hInstalling collected packages: Sastrawi\n",
            "Successfully installed Sastrawi-1.0.1\n"
          ]
        }
      ]
    },
    {
      "cell_type": "code",
      "metadata": {
        "id": "8qR4cmyvQbNf",
        "colab": {
          "base_uri": "https://localhost:8080/",
          "height": 1000
        },
        "outputId": "8f21c7c1-1302-4c08-ec9b-50f69c0ab999"
      },
      "source": [
        "pip install swifter"
      ],
      "execution_count": null,
      "outputs": [
        {
          "output_type": "stream",
          "name": "stdout",
          "text": [
            "Looking in indexes: https://pypi.org/simple, https://us-python.pkg.dev/colab-wheels/public/simple/\n",
            "Collecting swifter\n",
            "  Downloading swifter-1.3.4.tar.gz (830 kB)\n",
            "\u001b[K     |████████████████████████████████| 830 kB 6.3 MB/s \n",
            "\u001b[?25hRequirement already satisfied: pandas>=1.0.0 in /usr/local/lib/python3.7/dist-packages (from swifter) (1.3.5)\n",
            "Collecting psutil>=5.6.6\n",
            "  Downloading psutil-5.9.3-cp37-cp37m-manylinux_2_12_x86_64.manylinux2010_x86_64.manylinux_2_17_x86_64.manylinux2014_x86_64.whl (291 kB)\n",
            "\u001b[K     |████████████████████████████████| 291 kB 64.2 MB/s \n",
            "\u001b[?25hRequirement already satisfied: dask[dataframe]>=2.10.0 in /usr/local/lib/python3.7/dist-packages (from swifter) (2022.2.0)\n",
            "Requirement already satisfied: tqdm>=4.33.0 in /usr/local/lib/python3.7/dist-packages (from swifter) (4.64.1)\n",
            "Requirement already satisfied: ipywidgets>=7.0.0 in /usr/local/lib/python3.7/dist-packages (from swifter) (7.7.1)\n",
            "Requirement already satisfied: cloudpickle>=0.2.2 in /usr/local/lib/python3.7/dist-packages (from swifter) (1.5.0)\n",
            "Requirement already satisfied: parso>0.4.0 in /usr/local/lib/python3.7/dist-packages (from swifter) (0.8.3)\n",
            "Requirement already satisfied: bleach>=3.1.1 in /usr/local/lib/python3.7/dist-packages (from swifter) (5.0.1)\n",
            "Requirement already satisfied: webencodings in /usr/local/lib/python3.7/dist-packages (from bleach>=3.1.1->swifter) (0.5.1)\n",
            "Requirement already satisfied: six>=1.9.0 in /usr/local/lib/python3.7/dist-packages (from bleach>=3.1.1->swifter) (1.15.0)\n",
            "Requirement already satisfied: pyyaml>=5.3.1 in /usr/local/lib/python3.7/dist-packages (from dask[dataframe]>=2.10.0->swifter) (6.0)\n",
            "Requirement already satisfied: packaging>=20.0 in /usr/local/lib/python3.7/dist-packages (from dask[dataframe]>=2.10.0->swifter) (21.3)\n",
            "Requirement already satisfied: toolz>=0.8.2 in /usr/local/lib/python3.7/dist-packages (from dask[dataframe]>=2.10.0->swifter) (0.12.0)\n",
            "Requirement already satisfied: fsspec>=0.6.0 in /usr/local/lib/python3.7/dist-packages (from dask[dataframe]>=2.10.0->swifter) (2022.8.2)\n",
            "Requirement already satisfied: partd>=0.3.10 in /usr/local/lib/python3.7/dist-packages (from dask[dataframe]>=2.10.0->swifter) (1.3.0)\n",
            "Requirement already satisfied: numpy>=1.18 in /usr/local/lib/python3.7/dist-packages (from dask[dataframe]>=2.10.0->swifter) (1.21.6)\n",
            "Requirement already satisfied: widgetsnbextension~=3.6.0 in /usr/local/lib/python3.7/dist-packages (from ipywidgets>=7.0.0->swifter) (3.6.1)\n",
            "Requirement already satisfied: ipykernel>=4.5.1 in /usr/local/lib/python3.7/dist-packages (from ipywidgets>=7.0.0->swifter) (5.3.4)\n",
            "Requirement already satisfied: traitlets>=4.3.1 in /usr/local/lib/python3.7/dist-packages (from ipywidgets>=7.0.0->swifter) (5.1.1)\n",
            "Requirement already satisfied: ipython>=4.0.0 in /usr/local/lib/python3.7/dist-packages (from ipywidgets>=7.0.0->swifter) (7.9.0)\n",
            "Requirement already satisfied: jupyterlab-widgets>=1.0.0 in /usr/local/lib/python3.7/dist-packages (from ipywidgets>=7.0.0->swifter) (3.0.3)\n",
            "Requirement already satisfied: ipython-genutils~=0.2.0 in /usr/local/lib/python3.7/dist-packages (from ipywidgets>=7.0.0->swifter) (0.2.0)\n",
            "Requirement already satisfied: tornado>=4.2 in /usr/local/lib/python3.7/dist-packages (from ipykernel>=4.5.1->ipywidgets>=7.0.0->swifter) (5.1.1)\n",
            "Requirement already satisfied: jupyter-client in /usr/local/lib/python3.7/dist-packages (from ipykernel>=4.5.1->ipywidgets>=7.0.0->swifter) (6.1.12)\n",
            "Requirement already satisfied: decorator in /usr/local/lib/python3.7/dist-packages (from ipython>=4.0.0->ipywidgets>=7.0.0->swifter) (4.4.2)\n",
            "Requirement already satisfied: prompt-toolkit<2.1.0,>=2.0.0 in /usr/local/lib/python3.7/dist-packages (from ipython>=4.0.0->ipywidgets>=7.0.0->swifter) (2.0.10)\n",
            "Requirement already satisfied: pexpect in /usr/local/lib/python3.7/dist-packages (from ipython>=4.0.0->ipywidgets>=7.0.0->swifter) (4.8.0)\n",
            "Requirement already satisfied: backcall in /usr/local/lib/python3.7/dist-packages (from ipython>=4.0.0->ipywidgets>=7.0.0->swifter) (0.2.0)\n",
            "Requirement already satisfied: pygments in /usr/local/lib/python3.7/dist-packages (from ipython>=4.0.0->ipywidgets>=7.0.0->swifter) (2.6.1)\n",
            "Collecting jedi>=0.10\n",
            "  Downloading jedi-0.18.1-py2.py3-none-any.whl (1.6 MB)\n",
            "\u001b[K     |████████████████████████████████| 1.6 MB 49.1 MB/s \n",
            "\u001b[?25hRequirement already satisfied: pickleshare in /usr/local/lib/python3.7/dist-packages (from ipython>=4.0.0->ipywidgets>=7.0.0->swifter) (0.7.5)\n",
            "Requirement already satisfied: setuptools>=18.5 in /usr/local/lib/python3.7/dist-packages (from ipython>=4.0.0->ipywidgets>=7.0.0->swifter) (57.4.0)\n",
            "Requirement already satisfied: pyparsing!=3.0.5,>=2.0.2 in /usr/local/lib/python3.7/dist-packages (from packaging>=20.0->dask[dataframe]>=2.10.0->swifter) (3.0.9)\n",
            "Requirement already satisfied: pytz>=2017.3 in /usr/local/lib/python3.7/dist-packages (from pandas>=1.0.0->swifter) (2022.4)\n",
            "Requirement already satisfied: python-dateutil>=2.7.3 in /usr/local/lib/python3.7/dist-packages (from pandas>=1.0.0->swifter) (2.8.2)\n",
            "Requirement already satisfied: locket in /usr/local/lib/python3.7/dist-packages (from partd>=0.3.10->dask[dataframe]>=2.10.0->swifter) (1.0.0)\n",
            "Requirement already satisfied: wcwidth in /usr/local/lib/python3.7/dist-packages (from prompt-toolkit<2.1.0,>=2.0.0->ipython>=4.0.0->ipywidgets>=7.0.0->swifter) (0.2.5)\n",
            "Requirement already satisfied: notebook>=4.4.1 in /usr/local/lib/python3.7/dist-packages (from widgetsnbextension~=3.6.0->ipywidgets>=7.0.0->swifter) (5.5.0)\n",
            "Requirement already satisfied: nbformat in /usr/local/lib/python3.7/dist-packages (from notebook>=4.4.1->widgetsnbextension~=3.6.0->ipywidgets>=7.0.0->swifter) (5.7.0)\n",
            "Requirement already satisfied: Send2Trash in /usr/local/lib/python3.7/dist-packages (from notebook>=4.4.1->widgetsnbextension~=3.6.0->ipywidgets>=7.0.0->swifter) (1.8.0)\n",
            "Requirement already satisfied: terminado>=0.8.1 in /usr/local/lib/python3.7/dist-packages (from notebook>=4.4.1->widgetsnbextension~=3.6.0->ipywidgets>=7.0.0->swifter) (0.13.3)\n",
            "Requirement already satisfied: nbconvert in /usr/local/lib/python3.7/dist-packages (from notebook>=4.4.1->widgetsnbextension~=3.6.0->ipywidgets>=7.0.0->swifter) (5.6.1)\n",
            "Requirement already satisfied: pyzmq>=17 in /usr/local/lib/python3.7/dist-packages (from notebook>=4.4.1->widgetsnbextension~=3.6.0->ipywidgets>=7.0.0->swifter) (23.2.1)\n",
            "Requirement already satisfied: jinja2 in /usr/local/lib/python3.7/dist-packages (from notebook>=4.4.1->widgetsnbextension~=3.6.0->ipywidgets>=7.0.0->swifter) (2.11.3)\n",
            "Requirement already satisfied: jupyter-core>=4.4.0 in /usr/local/lib/python3.7/dist-packages (from notebook>=4.4.1->widgetsnbextension~=3.6.0->ipywidgets>=7.0.0->swifter) (4.11.1)\n",
            "Requirement already satisfied: ptyprocess in /usr/local/lib/python3.7/dist-packages (from terminado>=0.8.1->notebook>=4.4.1->widgetsnbextension~=3.6.0->ipywidgets>=7.0.0->swifter) (0.7.0)\n",
            "Requirement already satisfied: MarkupSafe>=0.23 in /usr/local/lib/python3.7/dist-packages (from jinja2->notebook>=4.4.1->widgetsnbextension~=3.6.0->ipywidgets>=7.0.0->swifter) (2.0.1)\n",
            "Requirement already satisfied: defusedxml in /usr/local/lib/python3.7/dist-packages (from nbconvert->notebook>=4.4.1->widgetsnbextension~=3.6.0->ipywidgets>=7.0.0->swifter) (0.7.1)\n",
            "Requirement already satisfied: pandocfilters>=1.4.1 in /usr/local/lib/python3.7/dist-packages (from nbconvert->notebook>=4.4.1->widgetsnbextension~=3.6.0->ipywidgets>=7.0.0->swifter) (1.5.0)\n",
            "Requirement already satisfied: entrypoints>=0.2.2 in /usr/local/lib/python3.7/dist-packages (from nbconvert->notebook>=4.4.1->widgetsnbextension~=3.6.0->ipywidgets>=7.0.0->swifter) (0.4)\n",
            "Requirement already satisfied: mistune<2,>=0.8.1 in /usr/local/lib/python3.7/dist-packages (from nbconvert->notebook>=4.4.1->widgetsnbextension~=3.6.0->ipywidgets>=7.0.0->swifter) (0.8.4)\n",
            "Requirement already satisfied: testpath in /usr/local/lib/python3.7/dist-packages (from nbconvert->notebook>=4.4.1->widgetsnbextension~=3.6.0->ipywidgets>=7.0.0->swifter) (0.6.0)\n",
            "Requirement already satisfied: fastjsonschema in /usr/local/lib/python3.7/dist-packages (from nbformat->notebook>=4.4.1->widgetsnbextension~=3.6.0->ipywidgets>=7.0.0->swifter) (2.16.2)\n",
            "Requirement already satisfied: jsonschema>=2.6 in /usr/local/lib/python3.7/dist-packages (from nbformat->notebook>=4.4.1->widgetsnbextension~=3.6.0->ipywidgets>=7.0.0->swifter) (4.3.3)\n",
            "Requirement already satisfied: importlib-metadata>=3.6 in /usr/local/lib/python3.7/dist-packages (from nbformat->notebook>=4.4.1->widgetsnbextension~=3.6.0->ipywidgets>=7.0.0->swifter) (4.13.0)\n",
            "Requirement already satisfied: zipp>=0.5 in /usr/local/lib/python3.7/dist-packages (from importlib-metadata>=3.6->nbformat->notebook>=4.4.1->widgetsnbextension~=3.6.0->ipywidgets>=7.0.0->swifter) (3.9.0)\n",
            "Requirement already satisfied: typing-extensions>=3.6.4 in /usr/local/lib/python3.7/dist-packages (from importlib-metadata>=3.6->nbformat->notebook>=4.4.1->widgetsnbextension~=3.6.0->ipywidgets>=7.0.0->swifter) (4.1.1)\n",
            "Requirement already satisfied: pyrsistent!=0.17.0,!=0.17.1,!=0.17.2,>=0.14.0 in /usr/local/lib/python3.7/dist-packages (from jsonschema>=2.6->nbformat->notebook>=4.4.1->widgetsnbextension~=3.6.0->ipywidgets>=7.0.0->swifter) (0.18.1)\n",
            "Requirement already satisfied: importlib-resources>=1.4.0 in /usr/local/lib/python3.7/dist-packages (from jsonschema>=2.6->nbformat->notebook>=4.4.1->widgetsnbextension~=3.6.0->ipywidgets>=7.0.0->swifter) (5.10.0)\n",
            "Requirement already satisfied: attrs>=17.4.0 in /usr/local/lib/python3.7/dist-packages (from jsonschema>=2.6->nbformat->notebook>=4.4.1->widgetsnbextension~=3.6.0->ipywidgets>=7.0.0->swifter) (22.1.0)\n",
            "Building wheels for collected packages: swifter\n",
            "  Building wheel for swifter (setup.py) ... \u001b[?25l\u001b[?25hdone\n",
            "  Created wheel for swifter: filename=swifter-1.3.4-py3-none-any.whl size=16322 sha256=97ca547d2685b031abaf0055ecd6ace8f890c6ecfe0985b8742c6c41901d5e47\n",
            "  Stored in directory: /root/.cache/pip/wheels/29/a7/0e/3a8f17ac69d759e1e93647114bc9bdc95957e5b0cbfd405205\n",
            "Successfully built swifter\n",
            "Installing collected packages: jedi, psutil, swifter\n",
            "  Attempting uninstall: psutil\n",
            "    Found existing installation: psutil 5.4.8\n",
            "    Uninstalling psutil-5.4.8:\n",
            "      Successfully uninstalled psutil-5.4.8\n",
            "Successfully installed jedi-0.18.1 psutil-5.9.3 swifter-1.3.4\n"
          ]
        },
        {
          "output_type": "display_data",
          "data": {
            "application/vnd.colab-display-data+json": {
              "pip_warning": {
                "packages": [
                  "psutil"
                ]
              }
            }
          },
          "metadata": {}
        }
      ]
    },
    {
      "cell_type": "markdown",
      "metadata": {
        "id": "L7coo48jufYT"
      },
      "source": [
        "# Preparing Data"
      ]
    },
    {
      "cell_type": "code",
      "metadata": {
        "id": "-3S6Z9dmMiRs"
      },
      "source": [
        "import pandas as pd\n",
        "import numpy as np\n",
        "import nltk"
      ],
      "execution_count": null,
      "outputs": []
    },
    {
      "cell_type": "code",
      "metadata": {
        "colab": {
          "base_uri": "https://localhost:8080/",
          "height": 206
        },
        "id": "7LD0Z87lNAIs",
        "outputId": "fbe6541d-a64a-435c-c8e6-d3d20581b0ec"
      },
      "source": [
        "dataSB = pd.read_csv('KAPOLDA1.csv') #lokasi file\n",
        "\n",
        "dataSB.head()"
      ],
      "execution_count": null,
      "outputs": [
        {
          "output_type": "execute_result",
          "data": {
            "text/plain": [
              "                                          clean_text\n",
              "0  8 irjen pol johanis asadoma dilantik menjadi k...\n",
              "1  kapolri jenderal listyo sigit prabowo meminta ...\n",
              "2  kapolri lantik irjen suharyono jadi kapolda su...\n",
              "3  tuntut kembalikan kepercayaan publik kapolri t...\n",
              "4                   yuk baca informasi lengkapnya di"
            ],
            "text/html": [
              "\n",
              "  <div id=\"df-8a26c1cf-9de7-4531-bef2-a99cc04814f8\">\n",
              "    <div class=\"colab-df-container\">\n",
              "      <div>\n",
              "<style scoped>\n",
              "    .dataframe tbody tr th:only-of-type {\n",
              "        vertical-align: middle;\n",
              "    }\n",
              "\n",
              "    .dataframe tbody tr th {\n",
              "        vertical-align: top;\n",
              "    }\n",
              "\n",
              "    .dataframe thead th {\n",
              "        text-align: right;\n",
              "    }\n",
              "</style>\n",
              "<table border=\"1\" class=\"dataframe\">\n",
              "  <thead>\n",
              "    <tr style=\"text-align: right;\">\n",
              "      <th></th>\n",
              "      <th>clean_text</th>\n",
              "    </tr>\n",
              "  </thead>\n",
              "  <tbody>\n",
              "    <tr>\n",
              "      <th>0</th>\n",
              "      <td>8 irjen pol johanis asadoma dilantik menjadi k...</td>\n",
              "    </tr>\n",
              "    <tr>\n",
              "      <th>1</th>\n",
              "      <td>kapolri jenderal listyo sigit prabowo meminta ...</td>\n",
              "    </tr>\n",
              "    <tr>\n",
              "      <th>2</th>\n",
              "      <td>kapolri lantik irjen suharyono jadi kapolda su...</td>\n",
              "    </tr>\n",
              "    <tr>\n",
              "      <th>3</th>\n",
              "      <td>tuntut kembalikan kepercayaan publik kapolri t...</td>\n",
              "    </tr>\n",
              "    <tr>\n",
              "      <th>4</th>\n",
              "      <td>yuk baca informasi lengkapnya di</td>\n",
              "    </tr>\n",
              "  </tbody>\n",
              "</table>\n",
              "</div>\n",
              "      <button class=\"colab-df-convert\" onclick=\"convertToInteractive('df-8a26c1cf-9de7-4531-bef2-a99cc04814f8')\"\n",
              "              title=\"Convert this dataframe to an interactive table.\"\n",
              "              style=\"display:none;\">\n",
              "        \n",
              "  <svg xmlns=\"http://www.w3.org/2000/svg\" height=\"24px\"viewBox=\"0 0 24 24\"\n",
              "       width=\"24px\">\n",
              "    <path d=\"M0 0h24v24H0V0z\" fill=\"none\"/>\n",
              "    <path d=\"M18.56 5.44l.94 2.06.94-2.06 2.06-.94-2.06-.94-.94-2.06-.94 2.06-2.06.94zm-11 1L8.5 8.5l.94-2.06 2.06-.94-2.06-.94L8.5 2.5l-.94 2.06-2.06.94zm10 10l.94 2.06.94-2.06 2.06-.94-2.06-.94-.94-2.06-.94 2.06-2.06.94z\"/><path d=\"M17.41 7.96l-1.37-1.37c-.4-.4-.92-.59-1.43-.59-.52 0-1.04.2-1.43.59L10.3 9.45l-7.72 7.72c-.78.78-.78 2.05 0 2.83L4 21.41c.39.39.9.59 1.41.59.51 0 1.02-.2 1.41-.59l7.78-7.78 2.81-2.81c.8-.78.8-2.07 0-2.86zM5.41 20L4 18.59l7.72-7.72 1.47 1.35L5.41 20z\"/>\n",
              "  </svg>\n",
              "      </button>\n",
              "      \n",
              "  <style>\n",
              "    .colab-df-container {\n",
              "      display:flex;\n",
              "      flex-wrap:wrap;\n",
              "      gap: 12px;\n",
              "    }\n",
              "\n",
              "    .colab-df-convert {\n",
              "      background-color: #E8F0FE;\n",
              "      border: none;\n",
              "      border-radius: 50%;\n",
              "      cursor: pointer;\n",
              "      display: none;\n",
              "      fill: #1967D2;\n",
              "      height: 32px;\n",
              "      padding: 0 0 0 0;\n",
              "      width: 32px;\n",
              "    }\n",
              "\n",
              "    .colab-df-convert:hover {\n",
              "      background-color: #E2EBFA;\n",
              "      box-shadow: 0px 1px 2px rgba(60, 64, 67, 0.3), 0px 1px 3px 1px rgba(60, 64, 67, 0.15);\n",
              "      fill: #174EA6;\n",
              "    }\n",
              "\n",
              "    [theme=dark] .colab-df-convert {\n",
              "      background-color: #3B4455;\n",
              "      fill: #D2E3FC;\n",
              "    }\n",
              "\n",
              "    [theme=dark] .colab-df-convert:hover {\n",
              "      background-color: #434B5C;\n",
              "      box-shadow: 0px 1px 3px 1px rgba(0, 0, 0, 0.15);\n",
              "      filter: drop-shadow(0px 1px 2px rgba(0, 0, 0, 0.3));\n",
              "      fill: #FFFFFF;\n",
              "    }\n",
              "  </style>\n",
              "\n",
              "      <script>\n",
              "        const buttonEl =\n",
              "          document.querySelector('#df-8a26c1cf-9de7-4531-bef2-a99cc04814f8 button.colab-df-convert');\n",
              "        buttonEl.style.display =\n",
              "          google.colab.kernel.accessAllowed ? 'block' : 'none';\n",
              "\n",
              "        async function convertToInteractive(key) {\n",
              "          const element = document.querySelector('#df-8a26c1cf-9de7-4531-bef2-a99cc04814f8');\n",
              "          const dataTable =\n",
              "            await google.colab.kernel.invokeFunction('convertToInteractive',\n",
              "                                                     [key], {});\n",
              "          if (!dataTable) return;\n",
              "\n",
              "          const docLinkHtml = 'Like what you see? Visit the ' +\n",
              "            '<a target=\"_blank\" href=https://colab.research.google.com/notebooks/data_table.ipynb>data table notebook</a>'\n",
              "            + ' to learn more about interactive tables.';\n",
              "          element.innerHTML = '';\n",
              "          dataTable['output_type'] = 'display_data';\n",
              "          await google.colab.output.renderOutput(dataTable, element);\n",
              "          const docLink = document.createElement('div');\n",
              "          docLink.innerHTML = docLinkHtml;\n",
              "          element.appendChild(docLink);\n",
              "        }\n",
              "      </script>\n",
              "    </div>\n",
              "  </div>\n",
              "  "
            ]
          },
          "metadata": {},
          "execution_count": 36
        }
      ]
    },
    {
      "cell_type": "code",
      "metadata": {
        "colab": {
          "base_uri": "https://localhost:8080/"
        },
        "id": "Ir6LW2PuN7dw",
        "outputId": "259ff798-fe44-4f42-a278-6f40eb1e385d"
      },
      "source": [
        "# ------ Case Folding --------\n",
        "# gunakan fungsi Series.str.lower() pada Pandas\n",
        "\n",
        "dataSB['data_bersih'] = dataSB['clean_text'].str.lower()\n",
        "\n",
        "print('Case Folding Result : \\n')\n",
        "print(dataSB['data_bersih'].head(5))"
      ],
      "execution_count": null,
      "outputs": [
        {
          "output_type": "stream",
          "name": "stdout",
          "text": [
            "Case Folding Result : \n",
            "\n",
            "0    8 irjen pol johanis asadoma dilantik menjadi k...\n",
            "1    kapolri jenderal listyo sigit prabowo meminta ...\n",
            "2    kapolri lantik irjen suharyono jadi kapolda su...\n",
            "3    tuntut kembalikan kepercayaan publik kapolri t...\n",
            "4                     yuk baca informasi lengkapnya di\n",
            "Name: data_bersih, dtype: object\n"
          ]
        }
      ]
    },
    {
      "cell_type": "markdown",
      "metadata": {
        "id": "6QHEcQNluwc2"
      },
      "source": [
        "# Tokenizing\n",
        "\n",
        "Menghapus karakter-karakter yang tidak penting dari text"
      ]
    },
    {
      "cell_type": "code",
      "metadata": {
        "id": "bRMi74w-OKjC"
      },
      "source": [
        "import string\n",
        "import re #regex library\n",
        "\n",
        "# import word_tokenize & FreqDist from NLTK\n",
        "from nltk.tokenize import word_tokenize\n",
        "from nltk.probability import FreqDist"
      ],
      "execution_count": null,
      "outputs": []
    },
    {
      "cell_type": "code",
      "metadata": {
        "id": "Tz06NMSjdPSt",
        "colab": {
          "base_uri": "https://localhost:8080/"
        },
        "outputId": "0baba028-ddea-428d-e6be-11c6a04fd975"
      },
      "source": [
        "# ------ Tokenizing ---------\n",
        "\n",
        "nltk.download('punkt')\n",
        "\n",
        "def remove_tweet_special(text):\n",
        "    # remove tab, new line, ans back slice\n",
        "    text = text.replace('\\\\t',\" \").replace('\\\\n',\" \").replace('\\\\u',\" \").replace('\\\\',\"\")\n",
        "    # remove non ASCII (emoticon, chinese word, .etc)\n",
        "    text = text.encode('ascii', 'replace').decode('ascii')\n",
        "    # remove mention, link, hashtag\n",
        "    text = ' '.join(re.sub(\"([@#][A-Za-z0-9]+)|(\\w+:\\/\\/\\S+)\",\" \", text).split())\n",
        "    # remove incomplete URL\n",
        "    return text.replace(\"http://\", \" \").replace(\"https://\", \" \")\n",
        "\n",
        "dataSB['data_bersih'] = dataSB['data_bersih'].apply(remove_tweet_special)\n",
        "\n",
        "#remove number\n",
        "def remove_number(text):\n",
        "    return  re.sub(r\"\\d+\", \"\", text)\n",
        "\n",
        "dataSB['data_bersih'] = dataSB['data_bersih'].apply(remove_number)\n",
        "\n",
        "#remove punctuation\n",
        "def remove_punctuation(text):\n",
        "    return text.translate(str.maketrans(\"\",\"\",string.punctuation))\n",
        "\n",
        "dataSB['data_bersih'] = dataSB['data_bersih'].apply(remove_punctuation)\n",
        "\n",
        "#remove whitespace leading & trailing\n",
        "def remove_whitespace_LT(text):\n",
        "    return text.strip()\n",
        "\n",
        "dataSB['data_bersih'] = dataSB['data_bersih'].apply(remove_whitespace_LT)\n",
        "\n",
        "#remove multiple whitespace into single whitespace\n",
        "def remove_whitespace_multiple(text):\n",
        "    return re.sub('\\s+',' ',text)\n",
        "\n",
        "dataSB['data_bersih'] = dataSB['data_bersih'].apply(remove_whitespace_multiple)\n",
        "\n",
        "# remove single char\n",
        "def remove_singl_char(text):\n",
        "    return re.sub(r\"\\b[a-zA-Z]\\b\", \"\", text)\n",
        "\n",
        "dataSB['data_bersih'] = dataSB['data_bersih'].apply(remove_singl_char)\n",
        "\n",
        "# NLTK word tokenize\n",
        "def word_tokenize_wrapper(text):\n",
        "    return word_tokenize(text)\n",
        "\n",
        "dataSB['data_tokens'] = dataSB['data_bersih'].apply(word_tokenize_wrapper)\n",
        "\n",
        "print('Tokenizing Result : \\n')\n",
        "print(dataSB['data_tokens'].head())"
      ],
      "execution_count": null,
      "outputs": [
        {
          "output_type": "stream",
          "name": "stdout",
          "text": [
            "Tokenizing Result : \n",
            "\n",
            "0    [irjen, pol, johanis, asadoma, dilantik, menja...\n",
            "1    [kapolri, jenderal, listyo, sigit, prabowo, me...\n",
            "2    [kapolri, lantik, irjen, suharyono, jadi, kapo...\n",
            "3    [tuntut, kembalikan, kepercayaan, publik, kapo...\n",
            "4               [yuk, baca, informasi, lengkapnya, di]\n",
            "Name: data_tokens, dtype: object\n"
          ]
        },
        {
          "output_type": "stream",
          "name": "stderr",
          "text": [
            "[nltk_data] Downloading package punkt to /root/nltk_data...\n",
            "[nltk_data]   Package punkt is already up-to-date!\n"
          ]
        }
      ]
    },
    {
      "cell_type": "code",
      "metadata": {
        "id": "k9aPbhDxdPSv",
        "colab": {
          "base_uri": "https://localhost:8080/"
        },
        "outputId": "f35e158a-ed39-44f9-9868-c670c1f87b6d"
      },
      "source": [
        "# NLTK calc frequency distribution\n",
        "def freqDist_wrapper(text):\n",
        "    return FreqDist(text)\n",
        "\n",
        "dataSB['data_tokens_fdist'] = dataSB['data_tokens'].apply(freqDist_wrapper)\n",
        "\n",
        "print('Frequency Tokens : \\n')\n",
        "print(dataSB['data_tokens_fdist'].head().apply(lambda x : x.most_common()))"
      ],
      "execution_count": null,
      "outputs": [
        {
          "output_type": "stream",
          "name": "stdout",
          "text": [
            "Frequency Tokens : \n",
            "\n",
            "0    [(irjen, 2), (pol, 2), (dilantik, 2), (menjadi...\n",
            "1    [(kapolri, 1), (jenderal, 1), (listyo, 1), (si...\n",
            "2    [(kapolri, 1), (lantik, 1), (irjen, 1), (suhar...\n",
            "3    [(tuntut, 1), (kembalikan, 1), (kepercayaan, 1...\n",
            "4    [(yuk, 1), (baca, 1), (informasi, 1), (lengkap...\n",
            "Name: data_tokens_fdist, dtype: object\n"
          ]
        }
      ]
    },
    {
      "cell_type": "markdown",
      "metadata": {
        "id": "oNgujoy0dPSw"
      },
      "source": [
        "# Stopwords\n",
        "Membersihkan teks dari kata-kata yang termasuk ke dalam stopwords"
      ]
    },
    {
      "cell_type": "code",
      "metadata": {
        "colab": {
          "base_uri": "https://localhost:8080/"
        },
        "id": "XQ_gaIXZdgS5",
        "outputId": "e7ed00ae-a79e-488f-f7da-afaebb811ce8"
      },
      "source": [
        "nltk.download('stopwords')"
      ],
      "execution_count": null,
      "outputs": [
        {
          "output_type": "stream",
          "name": "stderr",
          "text": [
            "[nltk_data] Downloading package stopwords to /root/nltk_data...\n",
            "[nltk_data]   Package stopwords is already up-to-date!\n"
          ]
        },
        {
          "output_type": "execute_result",
          "data": {
            "text/plain": [
              "True"
            ]
          },
          "metadata": {},
          "execution_count": 41
        }
      ]
    },
    {
      "cell_type": "code",
      "metadata": {
        "id": "PO8UwLZddPSx",
        "colab": {
          "base_uri": "https://localhost:8080/"
        },
        "outputId": "8a9a18cd-1b67-4020-f89e-1f9d380d80ef"
      },
      "source": [
        "from nltk.corpus import stopwords\n",
        "\n",
        "# ----------------------- get stopword from NLTK stopword -------------------------------\n",
        "# get stopword indonesia\n",
        "list_stopwords = stopwords.words('indonesian')\n",
        "\n",
        "\n",
        "# ---------------------------- manualy add stopword  ------------------------------------\n",
        "# append additional stopword\n",
        "list_stopwords.extend([\"yg\", \"dg\", \"rt\", \"dgn\", \"ny\", \"d\", 'klo',\n",
        "                       'kalo', 'amp', 'biar', 'bikin', 'bilang',\n",
        "                       'gak', 'ga', 'krn', 'nya', 'nih', 'sih',\n",
        "                       'si', 'tau', 'tdk', 'tuh', 'utk', 'ya',\n",
        "                       'jd', 'jgn', 'sdh', 'aja', 'n', 't',\n",
        "                       'nyg', 'hehe', 'pen', 'u', 'nan', 'loh', 'rt',\n",
        "                       '&amp', 'yah', 'bisnis', 'pandemi', 'indonesia'])\n",
        "\n",
        "# convert list to dictionary\n",
        "list_stopwords = set(list_stopwords)\n",
        "\n",
        "#remove stopword pada list token\n",
        "def stopwords_removal(words):\n",
        "    return [word for word in words if word not in list_stopwords]\n",
        "\n",
        "dataSB['data_tokens_WSW'] = dataSB['data_tokens'].apply(stopwords_removal)\n",
        "\n",
        "print(dataSB['data_tokens_WSW'].head())"
      ],
      "execution_count": null,
      "outputs": [
        {
          "output_type": "stream",
          "name": "stdout",
          "text": [
            "0    [irjen, pol, johanis, asadoma, dilantik, kapol...\n",
            "1    [kapolri, jenderal, listyo, sigit, prabowo, ke...\n",
            "2    [kapolri, lantik, irjen, suharyono, kapolda, s...\n",
            "3    [tuntut, kembalikan, kepercayaan, publik, kapo...\n",
            "4                   [yuk, baca, informasi, lengkapnya]\n",
            "Name: data_tokens_WSW, dtype: object\n"
          ]
        }
      ]
    },
    {
      "cell_type": "markdown",
      "metadata": {
        "id": "KLT9hddUdPSx"
      },
      "source": [
        "# Normalisasi\n",
        "Mengganti kata-kata tertentu dengan kata lain yang lebih tepat"
      ]
    },
    {
      "cell_type": "code",
      "metadata": {
        "colab": {
          "base_uri": "https://localhost:8080/"
        },
        "id": "PAWdsJhwP6RQ",
        "outputId": "4b4bdbea-ffe4-4635-ac78-3848348a842d"
      },
      "source": [
        "normalizad_word = pd.read_excel('slang.xlsx') #lokasi file\n",
        "\n",
        "normalizad_word_dict = {}\n",
        "\n",
        "for index, row in normalizad_word.iterrows():\n",
        "    if row[0] not in normalizad_word_dict:\n",
        "        normalizad_word_dict[row[0]] = row[1]\n",
        "\n",
        "def normalized_term(document):\n",
        "    return [normalizad_word_dict[term] if term in normalizad_word_dict else term for term in document]\n",
        "\n",
        "dataSB['textdata_normalized'] = dataSB['data_tokens_WSW'].apply(normalized_term)\n",
        "\n",
        "dataSB['textdata_normalized'].head(10)"
      ],
      "execution_count": null,
      "outputs": [
        {
          "output_type": "execute_result",
          "data": {
            "text/plain": [
              "0    [irjen, pol, johanis, asadoma, dilantik, kapol...\n",
              "1    [kapolri, jenderal, listyo, sigit, prabowo, ke...\n",
              "2    [kapolri, lantik, irjen, suharyono, kapolda, s...\n",
              "3    [tuntut, kembalikan, kepercayaan, publik, kapo...\n",
              "4                   [ayo, baca, informasi, lengkapnya]\n",
              "5                   [ayo, baca, informasi, lengkapnya]\n",
              "6    [tertangkap, peredaran, narkotika,psikotropika...\n",
              "7                  [kapolri, lantik, perwira, kapolda]\n",
              "8    [tertangkap, peredaran, narkotika,psikotropika...\n",
              "9                 [kapolri, lantik, sembilan, kapolda]\n",
              "Name: textdata_normalized, dtype: object"
            ]
          },
          "metadata": {},
          "execution_count": 43
        }
      ]
    },
    {
      "cell_type": "code",
      "metadata": {
        "id": "TNzlXxSJdPSy",
        "colab": {
          "base_uri": "https://localhost:8080/"
        },
        "outputId": "f0773af5-ee7a-4bbd-df1c-0dd635aca29b"
      },
      "source": [
        "# import Sastrawi package\n",
        "from Sastrawi.Stemmer.StemmerFactory import StemmerFactory\n",
        "import swifter\n",
        "\n",
        "# create stemmer\n",
        "factory = StemmerFactory()\n",
        "stemmer = factory.create_stemmer()\n",
        "\n",
        "# stemmed\n",
        "def stemmed_wrapper(term):\n",
        "    return stemmer.stem(term)\n",
        "\n",
        "term_dict = {}\n",
        "\n",
        "for document in dataSB['textdata_normalized']:\n",
        "    for term in document:\n",
        "        if term not in term_dict:\n",
        "            term_dict[term] = ' '\n",
        "\n",
        "print(len(term_dict))\n"
      ],
      "execution_count": null,
      "outputs": [
        {
          "output_type": "stream",
          "name": "stdout",
          "text": [
            "1424\n"
          ]
        }
      ]
    },
    {
      "cell_type": "code",
      "metadata": {
        "scrolled": true,
        "id": "Kvkan257dPS1"
      },
      "source": [
        "for term in term_dict:\n",
        "    term_dict[term] = stemmed_wrapper(term)\n",
        "\n",
        "    # untuk melihat hasilnya silahkan jalankan baris di bawah ini\n",
        "    # print(term,\":\" ,term_dict[term])"
      ],
      "execution_count": null,
      "outputs": []
    },
    {
      "cell_type": "code",
      "metadata": {
        "colab": {
          "base_uri": "https://localhost:8080/",
          "height": 257,
          "referenced_widgets": [
            "5e6e69b390144bbbaf9120a81c0ac683",
            "30857837a0b242cd91e373797a91ea46",
            "496afe0e34e64f50b06bfd2f87aefa45",
            "663ae2a1ef994f648f9d728fabe20632",
            "ff050cd7dee5421b9c0d0fd591d57d8b",
            "4ed4e8dc2b01461490ea0cdbf9ae0271",
            "ec3d5b3ddbdc4d5f8380b74d5bc75330",
            "702e072415034938a0a69abfaea83220",
            "5ab10db9f0f8409c88ff2ddc05dcf072",
            "f66c1d006bfb4f9397b311e682c3fb38",
            "392a347d132e428c9df20204a6d76af3"
          ]
        },
        "id": "OWpFQKehdPS2",
        "outputId": "91cacfb9-ef79-4cf6-a39c-dfbcd491c059"
      },
      "source": [
        "# apply stemmed term to dataframe\n",
        "def get_stemmed_term(document):\n",
        "    return [term_dict[term] for term in document]\n",
        "\n",
        "dataSB['textdata_tokens_stemmed'] = dataSB['textdata_normalized'].swifter.apply(get_stemmed_term)\n",
        "\n",
        "print(dataSB['textdata_tokens_stemmed'])"
      ],
      "execution_count": null,
      "outputs": [
        {
          "output_type": "display_data",
          "data": {
            "text/plain": [
              "Pandas Apply:   0%|          | 0/348 [00:00<?, ?it/s]"
            ],
            "application/vnd.jupyter.widget-view+json": {
              "version_major": 2,
              "version_minor": 0,
              "model_id": "5e6e69b390144bbbaf9120a81c0ac683"
            }
          },
          "metadata": {}
        },
        {
          "output_type": "stream",
          "name": "stdout",
          "text": [
            "0      [irjen, pol, johan, asadoma, lantik, kapolda, ...\n",
            "1      [kapolri, jenderal, listyo, sigit, prabowo, ke...\n",
            "2      [kapolri, lantik, irjen, suharyono, kapolda, s...\n",
            "3      [tuntut, kembali, percaya, publik, kapolri, ev...\n",
            "4                        [ayo, baca, informasi, lengkap]\n",
            "                             ...                        \n",
            "343    [buntut, tewas, brigadir, ujung, jenderal, cop...\n",
            "344    [hewan, hutan, hukum, rimba, mangsa, kbthn, br...\n",
            "345    [kapolda, aceh, stabilitas, politik, aman, kun...\n",
            "346    [kapolda, gorontalo, irjen, pol, helmy, dukung...\n",
            "347    [kapolda, aku, titik, terang, bunuh, anak, sub...\n",
            "Name: textdata_tokens_stemmed, Length: 348, dtype: object\n"
          ]
        }
      ]
    },
    {
      "cell_type": "code",
      "metadata": {
        "id": "Lc6tEmgadPS2",
        "colab": {
          "base_uri": "https://localhost:8080/"
        },
        "outputId": "79cd6ae7-c865-497d-d8a0-90b23c74e0c3"
      },
      "source": [
        "#stopwords #2\n",
        "\n",
        "from nltk.corpus import stopwords\n",
        "\n",
        "# ----------------------- get stopword from NLTK stopword -------------------------------\n",
        "# get stopword indonesia\n",
        "list_stopwords = stopwords.words('indonesian')\n",
        "\n",
        "\n",
        "# ---------------------------- manualy add stopword  ------------------------------------\n",
        "# append additional stopword\n",
        "list_stopwords.extend([\"ada\", \"tan\", \"ton\", \"pt\", \"komentar\", \"juta\", \"unit\", \"menang\", \"artikel\",\n",
        "                       \"smartphone\", \"tagar\", \"sedia\", \"kaskus\", \"seksi\"])\n",
        "\n",
        "# convert list to dictionary\n",
        "list_stopwords = set(list_stopwords)\n",
        "\n",
        "#remove stopword pada list token\n",
        "def stopwords_removal(words):\n",
        "    return [word for word in words if word not in list_stopwords]\n",
        "\n",
        "dataSB['textdata_tokens_stemmed2'] = dataSB['textdata_tokens_stemmed'].apply(stopwords_removal)\n",
        "\n",
        "print(dataSB['textdata_tokens_stemmed2'].head())"
      ],
      "execution_count": null,
      "outputs": [
        {
          "output_type": "stream",
          "name": "stdout",
          "text": [
            "0    [irjen, pol, johan, asadoma, lantik, kapolda, ...\n",
            "1    [kapolri, jenderal, listyo, sigit, prabowo, ke...\n",
            "2    [kapolri, lantik, irjen, suharyono, kapolda, s...\n",
            "3         [tuntut, percaya, publik, kapolri, evaluasi]\n",
            "4                      [ayo, baca, informasi, lengkap]\n",
            "Name: textdata_tokens_stemmed2, dtype: object\n"
          ]
        }
      ]
    },
    {
      "cell_type": "code",
      "metadata": {
        "id": "bWZQiEXPdPS3",
        "colab": {
          "base_uri": "https://localhost:8080/"
        },
        "outputId": "d799b05b-4cb0-4112-93d5-c579b7a950c3"
      },
      "source": [
        "for i in range(len(dataSB)):\n",
        "        a=dataSB.iloc[i][6]\n",
        "        document.append(a)\n",
        "\n",
        "document[0:5]"
      ],
      "execution_count": null,
      "outputs": [
        {
          "output_type": "execute_result",
          "data": {
            "text/plain": [
              "['kapolda', 'mengaku', 'titik', 'terang', 'pembunuh']"
            ]
          },
          "metadata": {},
          "execution_count": 48
        }
      ]
    },
    {
      "cell_type": "code",
      "metadata": {
        "id": "uhGB8a3HdPS3",
        "colab": {
          "base_uri": "https://localhost:8080/"
        },
        "outputId": "13f40f7a-0543-463c-cc26-8f0d8a3369ca"
      },
      "source": [
        "doc_clean = dataSB['textdata_tokens_stemmed2']\n",
        "doc_clean"
      ],
      "execution_count": null,
      "outputs": [
        {
          "output_type": "execute_result",
          "data": {
            "text/plain": [
              "0      [irjen, pol, johan, asadoma, lantik, kapolda, ...\n",
              "1      [kapolri, jenderal, listyo, sigit, prabowo, ke...\n",
              "2      [kapolri, lantik, irjen, suharyono, kapolda, s...\n",
              "3           [tuntut, percaya, publik, kapolri, evaluasi]\n",
              "4                        [ayo, baca, informasi, lengkap]\n",
              "                             ...                        \n",
              "343    [buntut, tewas, brigadir, ujung, jenderal, cop...\n",
              "344    [hewan, hutan, hukum, rimba, mangsa, kbthn, br...\n",
              "345    [kapolda, aceh, stabilitas, politik, aman, kun...\n",
              "346    [kapolda, gorontalo, irjen, pol, helmy, dukung...\n",
              "347    [kapolda, titik, terang, bunuh, anak, subang, ...\n",
              "Name: textdata_tokens_stemmed2, Length: 348, dtype: object"
            ]
          },
          "metadata": {},
          "execution_count": 49
        }
      ]
    },
    {
      "cell_type": "code",
      "source": [
        "doc_clean.to_csv(\"KAPOLDA[2].csv\",index = False)"
      ],
      "metadata": {
        "id": "uF9A-u6LKUp3"
      },
      "execution_count": null,
      "outputs": []
    },
    {
      "cell_type": "markdown",
      "metadata": {
        "id": "7IpABMN5dPS4"
      },
      "source": [
        "# LDA model using gensim\n",
        "Proses topic modeling dengan LDA gensim"
      ]
    },
    {
      "cell_type": "code",
      "metadata": {
        "id": "gsrO1YZcdPS3",
        "colab": {
          "base_uri": "https://localhost:8080/"
        },
        "outputId": "6591ca96-be1d-4af2-af60-abf8bdedfa03"
      },
      "source": [
        "import gensim\n",
        "from gensim import corpora\n",
        "\n",
        "dictionary = corpora.Dictionary(doc_clean)\n",
        "print(dictionary)\n",
        "\n",
        "doc_term_matrix = [dictionary.doc2bow(doc) for doc in doc_clean]"
      ],
      "execution_count": null,
      "outputs": [
        {
          "output_type": "stream",
          "name": "stdout",
          "text": [
            "Dictionary<1172 unique tokens: ['asadoma', 'barat', 'irjen', 'johan', 'kapolda']...>\n"
          ]
        }
      ]
    },
    {
      "cell_type": "code",
      "metadata": {
        "id": "IjX9uZ-udPS4"
      },
      "source": [
        "# Creating the object for LDA model using gensim library\n",
        "Lda = gensim.models.ldamodel.LdaModel\n",
        "\n",
        "total_topics = 3 # jumlah topik yang akan di extract\n",
        "number_words = 10 # jumlah kata per topik"
      ],
      "execution_count": null,
      "outputs": []
    },
    {
      "cell_type": "code",
      "metadata": {
        "id": "NcPeAh8PdPS4",
        "colab": {
          "base_uri": "https://localhost:8080/"
        },
        "outputId": "59f4fc75-d167-4b3d-d865-1cd4665634a7"
      },
      "source": [
        "# Running and Trainign LDA model on the document term matrix.\n",
        "lda_model = Lda(doc_term_matrix, num_topics=total_topics, id2word = dictionary, passes=50)\n",
        "\n",
        "lda_model.show_topics(num_topics=total_topics, num_words=number_words)"
      ],
      "execution_count": null,
      "outputs": [
        {
          "output_type": "execute_result",
          "data": {
            "text/plain": [
              "[(0,\n",
              "  '0.100*\"polisi\" + 0.011*\"lapor\" + 0.008*\"orang\" + 0.005*\"salah\" + 0.004*\"hukum\" + 0.004*\"oknum\" + 0.004*\"anak\" + 0.004*\"banget\" + 0.003*\"kantor\" + 0.003*\"pakai\"'),\n",
              " (1,\n",
              "  '0.040*\"polisi\" + 0.017*\"na\" + 0.009*\"whatsapp\" + 0.007*\"kwa\" + 0.006*\"bir\" + 0.005*\"ve\" + 0.005*\"jeshi\" + 0.004*\"bu\" + 0.003*\"za\" + 0.003*\"adik\"'),\n",
              " (2,\n",
              "  '0.052*\"polisi\" + 0.007*\"tangkap\" + 0.007*\"peduli\" + 0.007*\"aman\" + 0.006*\"warga\" + 0.006*\"bencana\" + 0.006*\"sigap\" + 0.005*\"banjir\" + 0.005*\"bantu\" + 0.005*\"laku\"')]"
            ]
          },
          "metadata": {},
          "execution_count": 104
        }
      ]
    },
    {
      "cell_type": "code",
      "metadata": {
        "id": "WrqQ9VKidPS4"
      },
      "source": [
        "# Word Count of Topic Keywords\n",
        "\n",
        "from collections import Counter\n",
        "topics = lda_model.show_topics(formatted=False)\n",
        "data_flat = [w for w_list in doc_clean for w in w_list]\n",
        "counter = Counter(data_flat)\n",
        "\n",
        "out = []\n",
        "for i, topic in topics:\n",
        "    for word, weight in topic:\n",
        "        out.append([word, i , weight, counter[word]])\n",
        "\n",
        "df_imp_wcount = pd.DataFrame(out, columns=['word', 'topic_id', 'importance', 'word_count'])\n",
        "print(df_imp_wcount)"
      ],
      "execution_count": null,
      "outputs": []
    },
    {
      "cell_type": "code",
      "source": [
        "df_imp_wcount.to_csv('wcount.csv', index=False)"
      ],
      "metadata": {
        "id": "BtaTzKfKsHCh"
      },
      "execution_count": null,
      "outputs": []
    },
    {
      "cell_type": "code",
      "metadata": {
        "id": "u_fmI6SedPS4"
      },
      "source": [
        "#jika simpan ke local drive\n",
        "#filedisimpan='df_imp_wcount.xlsx'\n",
        "#df_imp_wcount.to_excel(filedisimpan, index = False, header=True)"
      ],
      "execution_count": null,
      "outputs": []
    },
    {
      "cell_type": "code",
      "metadata": {
        "id": "ciVXI1gtdPS4"
      },
      "source": [
        "#Dominant topic and its percentage contribution in each topic\n",
        "def format_topics_sentences(ldamodel=None, corpus=doc_term_matrix, texts=document):\n",
        "    # Init output\n",
        "    sent_topics_df = pd.DataFrame()\n",
        "\n",
        "    # Get main topic in each document\n",
        "    for i, row_list in enumerate(ldamodel[corpus]):\n",
        "        row = row_list[0] if ldamodel.per_word_topics else row_list\n",
        "        # print(row)\n",
        "        row = sorted(row, key=lambda x: (x[1]), reverse=True)\n",
        "        # Get the Dominant topic, Perc Contribution and Keywords for each document\n",
        "        for j, (topic_num, prop_topic) in enumerate(row):\n",
        "            if j == 0:  # => dominant topic\n",
        "                wp = ldamodel.show_topic(topic_num)\n",
        "                topic_keywords = \", \".join([word for word, prop in wp])\n",
        "                sent_topics_df = sent_topics_df.append(pd.Series([int(topic_num), round(prop_topic,4), topic_keywords]), ignore_index=True)\n",
        "            else:\n",
        "                break\n",
        "    sent_topics_df.columns = ['Dominant_Topic', 'Perc_Contribution', 'Topic_Keywords']\n",
        "\n",
        "    # Add original text to the end of the output\n",
        "    contents = pd.Series(texts)\n",
        "    sent_topics_df = pd.concat([sent_topics_df, contents], axis=1)\n",
        "    return(sent_topics_df)"
      ],
      "execution_count": null,
      "outputs": []
    },
    {
      "cell_type": "code",
      "metadata": {
        "id": "_OebSqAFdPS4",
        "colab": {
          "base_uri": "https://localhost:8080/"
        },
        "outputId": "72132545-158e-48ec-d3e8-bba504ede1f6"
      },
      "source": [
        "df_topic_sents_keywords = format_topics_sentences(ldamodel=lda_model, corpus=doc_term_matrix, texts=doc_clean)\n",
        "\n",
        "# Format\n",
        "df_dominant_topic = df_topic_sents_keywords.reset_index()\n",
        "df_dominant_topic.columns = ['Document_No', 'Dominant_Topic', 'Topic_Perc_Contrib', 'Keywords', 'Text']\n",
        "print(df_dominant_topic.head(10))"
      ],
      "execution_count": null,
      "outputs": [
        {
          "output_type": "stream",
          "name": "stdout",
          "text": [
            "   Document_No  Dominant_Topic  Topic_Perc_Contrib  \\\n",
            "0            0             0.0              0.7440   \n",
            "1            1             1.0              0.9546   \n",
            "2            2             1.0              0.9132   \n",
            "3            3             1.0              0.9575   \n",
            "4            4             1.0              0.9575   \n",
            "5            5             2.0              0.9141   \n",
            "6            6             2.0              0.9141   \n",
            "7            7             0.0              0.9374   \n",
            "8            8             2.0              0.8645   \n",
            "9            9             2.0              0.8645   \n",
            "\n",
            "                                            Keywords  \\\n",
            "0  polisi, oknum, libat, pecat, duga, anggota, me...   \n",
            "1  polisi, oknum, viral, tangkap, aniaya, polda, ...   \n",
            "2  polisi, oknum, viral, tangkap, aniaya, polda, ...   \n",
            "3  polisi, oknum, viral, tangkap, aniaya, polda, ...   \n",
            "4  polisi, oknum, viral, tangkap, aniaya, polda, ...   \n",
            "5  polisi, oknum, polri, propam, irjen, anggota, ...   \n",
            "6  polisi, oknum, polri, propam, irjen, anggota, ...   \n",
            "7  polisi, oknum, libat, pecat, duga, anggota, me...   \n",
            "8  polisi, oknum, polri, propam, irjen, anggota, ...   \n",
            "9  polisi, oknum, polri, propam, irjen, anggota, ...   \n",
            "\n",
            "                                                Text  \n",
            "0  [oknum, polisi, coret, dinding, polres, luwu, ...  \n",
            "1  [unggah, mobil, polisi, berkalikali, bunyi, kl...  \n",
            "2  [coret, mapolres, heboh, laku, polisi, pangkat...  \n",
            "3  [ppatk, deteksi, oknum, aparat, tegak, hukum, ...  \n",
            "4  [ppatk, deteksi, oknum, aparat, tegak, hukum, ...  \n",
            "5      [mahfud, md, kait, tindak, irjen, pol, teddy]  \n",
            "6      [mahfud, md, kait, tindak, irjen, pol, teddy]  \n",
            "7  [oknum, polisi, polres, luwu, coret, dinding, ...  \n",
            "8                     [irjen, teddy, tunda, periksa]  \n",
            "9                     [irjen, teddy, tunda, periksa]  \n"
          ]
        }
      ]
    },
    {
      "cell_type": "code",
      "source": [
        "df_dominant_topic.to_csv('df_dominant_topic.csv')"
      ],
      "metadata": {
        "id": "Nm9DxtuEsfyR"
      },
      "execution_count": null,
      "outputs": []
    },
    {
      "cell_type": "code",
      "metadata": {
        "id": "CPxZdk2adPS5",
        "colab": {
          "base_uri": "https://localhost:8080/"
        },
        "outputId": "9269cd2b-1ad2-40bc-c44c-457703e5d0d1"
      },
      "source": [
        "import pyLDAvis.gensim\n",
        "import pickle\n",
        "import pyLDAvis\n",
        "# Visualize the topics\n",
        "pyLDAvis.enable_notebook()"
      ],
      "execution_count": null,
      "outputs": [
        {
          "output_type": "stream",
          "name": "stderr",
          "text": [
            "/usr/local/lib/python3.7/dist-packages/past/types/oldstr.py:5: DeprecationWarning: Using or importing the ABCs from 'collections' instead of from 'collections.abc' is deprecated since Python 3.3,and in 3.9 it will stop working\n",
            "  from collections import Iterable\n",
            "/usr/local/lib/python3.7/dist-packages/past/builtins/misc.py:4: DeprecationWarning: Using or importing the ABCs from 'collections' instead of from 'collections.abc' is deprecated since Python 3.3,and in 3.9 it will stop working\n",
            "  from collections import Mapping\n"
          ]
        }
      ]
    },
    {
      "cell_type": "code",
      "metadata": {
        "id": "Yh7qhTZadPS5"
      },
      "source": [
        "import os\n",
        "LDAvis_data_filepath = os.path.join('ldavis_prepared_'+str(total_topics))"
      ],
      "execution_count": null,
      "outputs": []
    },
    {
      "cell_type": "code",
      "metadata": {
        "id": "AtNwD5fcdPS5"
      },
      "source": [
        "corpus = [dictionary.doc2bow(text) for text in doc_clean]"
      ],
      "execution_count": null,
      "outputs": []
    },
    {
      "cell_type": "code",
      "metadata": {
        "id": "6p2NGYvMdPS5"
      },
      "source": [
        "# proses ini mungkin agak lama\n",
        "if 1 == 1:\n",
        "    LDAvis_prepared = pyLDAvis.gensim.prepare(lda_model, corpus, dictionary)\n",
        "    with open(LDAvis_data_filepath, 'wb') as f:\n",
        "        pickle.dump(LDAvis_prepared, f)"
      ],
      "execution_count": null,
      "outputs": []
    },
    {
      "cell_type": "code",
      "metadata": {
        "id": "436P-l4udPS5"
      },
      "source": [
        "# load the pre-prepared pyLDAvis data from disk\n",
        "with open(LDAvis_data_filepath, 'rb') as f:\n",
        "    LDAvis_prepared = pickle.load(f)"
      ],
      "execution_count": null,
      "outputs": []
    },
    {
      "cell_type": "code",
      "metadata": {
        "id": "dRBL8ZqcdPS6",
        "colab": {
          "base_uri": "https://localhost:8080/",
          "height": 881
        },
        "outputId": "46b8cec2-7e71-4910-e2a9-4459f9b5c839"
      },
      "source": [
        "# proses ini mungkin agak lama\n",
        "LDAvis_prepared"
      ],
      "execution_count": null,
      "outputs": [
        {
          "output_type": "execute_result",
          "data": {
            "text/plain": [
              "PreparedData(topic_coordinates=              x         y  topics  cluster       Freq\n",
              "topic                                                \n",
              "0      0.108823  0.051870       1        1  48.076171\n",
              "1     -0.002763 -0.107903       2        1  29.620900\n",
              "2     -0.106060  0.056033       3        1  22.302929, topic_info=                                       Term       Freq      Total Category  \\\n",
              "132                                   libat  37.000000  37.000000  Default   \n",
              "98                                    pecat  35.000000  35.000000  Default   \n",
              "67                                    polri  27.000000  27.000000  Default   \n",
              "23                                    viral  28.000000  28.000000  Default   \n",
              "42                                    irjen  16.000000  16.000000  Default   \n",
              "..                                      ...        ...        ...      ...   \n",
              "23                                    viral   6.101154  28.064126   Topic3   \n",
              "99                                    sumut   4.647488  10.788077   Topic3   \n",
              "78                                     duga   6.263270  49.765124   Topic3   \n",
              "37   narkotika psikotropika dan obat larang   4.737957  25.063040   Topic3   \n",
              "35                                     kait   4.537160  16.781204   Topic3   \n",
              "\n",
              "     logprob  loglift  \n",
              "132  30.0000  30.0000  \n",
              "98   29.0000  29.0000  \n",
              "67   28.0000  28.0000  \n",
              "23   27.0000  27.0000  \n",
              "42   26.0000  26.0000  \n",
              "..       ...      ...  \n",
              "23   -5.1389  -0.0256  \n",
              "99   -5.4111   0.6583  \n",
              "78   -5.1127  -0.5722  \n",
              "37   -5.3918  -0.1653  \n",
              "35   -5.4351   0.1925  \n",
              "\n",
              "[190 rows x 6 columns], token_table=      Topic      Freq      Term\n",
              "term                           \n",
              "153       1  0.348003      aksi\n",
              "153       2  0.580005      aksi\n",
              "58        3  0.824692     aktif\n",
              "131       1  0.923505     ampas\n",
              "94        1  0.983467      ampo\n",
              "...     ...       ...       ...\n",
              "107       1  0.583117     warga\n",
              "107       2  0.356350     warga\n",
              "107       3  0.064791     warga\n",
              "617       3  0.788043  wartawan\n",
              "1043      2  0.931366       wil\n",
              "\n",
              "[219 rows x 3 columns], R=30, lambda_step=0.01, plot_opts={'xlab': 'PC1', 'ylab': 'PC2'}, topic_order=[1, 2, 3])"
            ],
            "text/html": [
              "\n",
              "<link rel=\"stylesheet\" type=\"text/css\" href=\"https://cdn.jsdelivr.net/gh/bmabey/pyLDAvis/pyLDAvis/js/ldavis.v1.0.0.css\">\n",
              "\n",
              "\n",
              "<div id=\"ldavis_el631401877192980003005483492\"></div>\n",
              "<script type=\"text/javascript\">\n",
              "\n",
              "var ldavis_el631401877192980003005483492_data = {\"mdsDat\": {\"x\": [0.10882341517303948, -0.002763117616410092, -0.10606029755662937], \"y\": [0.05187026314630502, -0.1079029914620461, 0.05603272831574109], \"topics\": [1, 2, 3], \"cluster\": [1, 1, 1], \"Freq\": [48.07617083082382, 29.620899897294077, 22.302929271882103]}, \"tinfo\": {\"Term\": [\"libat\", \"pecat\", \"polri\", \"viral\", \"irjen\", \"medan\", \"etik\", \"sidang\", \"propam\", \"klik\", \"rupiah\", \"aniaya\", \"uang\", \"sepeda\", \"brigadir\", \"teddy\", \"taut\", \"media\", \"bukti\", \"tahan\", \"md\", \"mahfud\", \"sopir\", \"polrestabes\", \"aparat\", \"sambo\", \"inisial\", \"briptu\", \"pol\", \"sosial\", \"libat\", \"pecat\", \"sepeda\", \"medan\", \"orang\", \"selatan\", \"hormat\", \"ampo\", \"polrestabes\", \"selingkuh\", \"sulawesi\", \"kue\", \"jilat\", \"kabupaten\", \"ampas\", \"korupsi\", \"online\", \"sumatera\", \"tahan\", \"tiri\", \"makassar\", \"hut\", \"sungguh\", \"samapta\", \"langsung\", \"rampok\", \"lubuklinggau\", \"atm\", \"cirebon\", \"tinggal\", \"anak\", \"briptu\", \"motor\", \"inisial\", \"bakar\", \"oknum\", \"polisi\", \"polres\", \"anggota\", \"duga\", \"warga\", \"istri\", \"milik\", \"tangkap\", \"narkotika psikotropika dan obat larang\", \"tugas\", \"aniaya\", \"korban\", \"hukum\", \"polda\", \"polri\", \"media\", \"aparat\", \"travel\", \"bengkulu\", \"merah\", \"wil\", \"tegak\", \"konsumsi\", \"gorontalo\", \"bharaka\", \"jt\", \"operasi\", \"sentil\", \"budiarta\", \"pn\", \"rangkasbitung\", \"nissan\", \"juke\", \"sabtu\", \"lampung\", \"brigadir\", \"kepala satu\", \"ott\", \"sabusabu\", \"sosial\", \"todong\", \"budak\", \"irfan\", \"ko\", \"gila\", \"sopir\", \"kemudi\", \"viral\", \"kompol\", \"senpi\", \"aniaya\", \"polisi\", \"oknum\", \"tangkap\", \"polda\", \"kait\", \"tembak\", \"propam\", \"tangan\", \"warga\", \"video\", \"duga\", \"istri\", \"aksi\", \"polres\", \"via\", \"hukum\", \"narkotika psikotropika dan obat larang\", \"mobil\", \"inisial\", \"tugas\", \"etik\", \"sidang\", \"klik\", \"teddy\", \"taut\", \"md\", \"mahfud\", \"pol\", \"wartawan\", \"vonis\", \"kode\", \"lengkap\", \"aktif\", \"pohon\", \"profesi\", \"kalsel\", \"informasi\", \"rupiah\", \"kaltara\", \"putra\", \"ferdy\", \"markas besar\", \"fiktif\", \"suruh\", \"kepp\", \"kerja\", \"en\", \"kkep\", \"barang\", \"sita\", \"bukti\", \"komisi\", \"irjen\", \"sambo\", \"uang\", \"polri\", \"banjarmasin\", \"metro\", \"propam\", \"sangka\", \"polisi\", \"oknum\", \"anggota\", \"periksa\", \"polda\", \"lapor\", \"curi\", \"tindak\", \"viral\", \"sumut\", \"duga\", \"narkotika psikotropika dan obat larang\", \"kait\"], \"Freq\": [37.0, 35.0, 27.0, 28.0, 16.0, 26.0, 8.0, 8.0, 27.0, 7.0, 9.0, 28.0, 13.0, 17.0, 10.0, 6.0, 6.0, 8.0, 8.0, 21.0, 5.0, 5.0, 9.0, 16.0, 6.0, 7.0, 30.0, 20.0, 5.0, 8.0, 37.065932551128256, 35.42050873478604, 17.421963066075502, 25.826900686136597, 10.88834820401064, 10.08674392499756, 9.274150854039462, 11.525551925942446, 15.306842021705071, 8.372769137881807, 6.80837591304559, 6.796764680499997, 6.796758936501167, 6.796362600581841, 5.999904944521154, 5.998158246694881, 5.995639242116722, 5.98882372641313, 20.134892355305883, 5.1834049099946915, 5.172632301278394, 5.172117952292182, 5.170910668174292, 5.167308136543961, 5.1623077244708995, 5.1444167346581136, 5.876323331858346, 5.134768905349229, 4.364953743501752, 4.364890298423757, 10.905051752610586, 17.954683449275176, 23.623914213833235, 23.952763368713274, 7.694238388725865, 135.16846558863534, 143.48565892692065, 24.15608004005488, 27.893242648072505, 29.911355907098226, 17.69393723325987, 14.696179751825225, 13.161372820603003, 18.427498102123373, 13.494799420369471, 9.625819349729106, 12.797886308409856, 9.303753335286522, 9.93116719448381, 11.101096521432412, 9.221307109159586, 7.898918038316737, 6.3872382556817895, 5.613455223438645, 4.853541922871562, 4.841134448919176, 4.823732134227498, 4.087648326029957, 4.085674197670776, 4.023529692194438, 3.3211177060216026, 3.3211177060216026, 3.3211070889688235, 3.3210572209936484, 3.3210572209936484, 3.3210234394620786, 3.3210234394620786, 3.3210240829198225, 3.3210240829198225, 3.319963986286266, 5.928692893811334, 9.2648990404765, 3.262046676460398, 3.8921307948973083, 6.406265944635297, 7.01528711727382, 2.5546054245589573, 2.5544490643271187, 2.554419947864194, 2.5542402622891283, 2.5540280820979806, 8.18516665039808, 5.5532301524132315, 20.081263499369093, 3.7407045970410695, 4.86441024589984, 15.35281812691917, 70.28130662539445, 61.46784016488411, 17.068787378384467, 14.438805705026475, 8.660847935454118, 8.986664051141327, 10.873163117430185, 6.424765354780823, 10.970529856365859, 6.945357416550499, 13.590498040308733, 8.899470379141329, 5.100834959661764, 8.589998733614346, 6.1171320680289964, 6.36125414505582, 6.830282720494655, 5.770900325034058, 6.406901680886559, 5.266416262703616, 8.115056602490027, 8.102433732779557, 7.399171190926111, 5.979221893127805, 5.966303485284098, 5.239262235923557, 5.239252061659954, 4.522119091582779, 4.498188254610379, 3.825200445330349, 3.8125763643980224, 3.8032313032784097, 3.1091231762242, 3.1061183770400316, 3.102111897379683, 3.0985995962372077, 3.096660672287668, 8.017990251804793, 3.054015246394521, 2.391555135255799, 2.3914575107740816, 2.3910752491558442, 2.3891346294957043, 2.387467261486624, 2.381749325341581, 2.301934649817566, 1.6740326362292413, 1.6740274279752538, 1.674027306853068, 1.674026943486511, 6.611992776339043, 3.8449603187141475, 11.80443838053648, 5.358785124336201, 8.839987418886002, 16.341125079644183, 4.956296585566626, 4.501288013588178, 11.845356361816412, 8.35235240597555, 43.07126242893131, 34.93297168428134, 10.19423810517673, 5.514205721673674, 9.042052169957081, 5.548696959777535, 5.022418640235599, 5.083089712056928, 6.101154144059454, 4.647487821168622, 6.263270375825371, 4.737957373128985, 4.537160044609628], \"Total\": [37.0, 35.0, 27.0, 28.0, 16.0, 26.0, 8.0, 8.0, 27.0, 7.0, 9.0, 28.0, 13.0, 17.0, 10.0, 6.0, 6.0, 8.0, 8.0, 21.0, 5.0, 5.0, 9.0, 16.0, 6.0, 7.0, 30.0, 20.0, 5.0, 8.0, 37.59866735842204, 35.96189352480254, 17.95274288645829, 26.882872295274417, 11.40604726165617, 10.589587508054851, 9.771289135156286, 12.20172552903592, 16.256590979044486, 8.942446966789662, 7.315001071447934, 7.313580662647257, 7.31357932945892, 7.3142166617444255, 6.496988793316358, 6.496894502045821, 6.496700926235254, 6.495590257269305, 21.89282531824589, 5.678668824728037, 5.67730921851854, 5.677539274530833, 5.67781679216611, 5.6766371663325135, 5.676941272738053, 5.673873272693162, 6.489037482253795, 5.672562392825652, 4.8601064943473915, 4.8601031188836865, 12.174483839540946, 20.88846131708725, 28.106334434197443, 30.63192028899825, 8.858636486551344, 231.5692774378008, 256.8382279812464, 35.81936916246016, 43.23647981197927, 49.76512432323233, 30.868570381032846, 23.90834155787052, 20.498638480780134, 38.524200833827486, 25.06303951399311, 15.157406506028062, 28.391682519804455, 14.324373122623527, 18.852791247922248, 34.581954396415966, 27.065847561036747, 8.432295370571897, 6.899519504916672, 6.132516086377649, 5.366513356563238, 5.367230819996364, 5.368459231424546, 4.599963317113202, 4.6000585533467495, 4.603957061903439, 3.833443432337229, 3.8334434521891234, 3.833442394967071, 3.83343997783027, 3.833440124693876, 3.83343693447368, 3.83343693447368, 3.833442936203014, 3.833443522479535, 3.833457437204145, 6.870174358319191, 10.79342597573672, 3.829887585560939, 4.5874190487811966, 7.618369898352892, 8.375954010458424, 3.066923992398648, 3.06691624603777, 3.0669321164859418, 3.0669040037840807, 3.06690941676968, 9.884505377131488, 6.9558016286208915, 28.064126465128854, 4.622166726720563, 6.182411835440568, 28.391682519804455, 256.8382279812464, 231.5692774378008, 38.524200833827486, 34.581954396415966, 16.781204004876233, 18.63299481296633, 27.06231598632769, 11.808108537100868, 30.868570381032846, 14.593808024318275, 49.76512432323233, 23.90834155787052, 8.620608949184755, 35.81936916246016, 14.580499712828338, 18.852791247922248, 25.06303951399311, 14.30809604813617, 30.63192028899825, 15.157406506028062, 8.662992253073833, 8.66470391927099, 7.944548004726525, 6.508017234761506, 6.509032457661798, 5.792899290654047, 5.792900418780916, 5.075819113388794, 5.0758635324565695, 4.355479614066286, 4.357174947930682, 4.357205669972087, 3.637721558728879, 3.63791155684135, 3.6386540940704153, 3.6383909471183915, 3.6389058229537157, 9.436784292534472, 3.6453456222341076, 2.9201496190658056, 2.920153410674801, 2.9201745516523365, 2.920461078668996, 2.9204076514952972, 2.9214542362917957, 2.9321839757571393, 2.202572306235067, 2.2025720713087367, 2.2025742125447394, 2.202574150799, 8.827091208538569, 5.1216142952138455, 16.329252454497656, 7.31739421874885, 13.282869949927834, 27.065847561036747, 7.469782312318504, 6.608655113395024, 27.06231598632769, 19.07163043113497, 256.8382279812464, 231.5692774378008, 43.23647981197927, 12.071002523602852, 34.581954396415966, 14.525055262361997, 11.550439296853083, 12.122278994062704, 28.064126465128854, 10.788077062553093, 49.76512432323233, 25.06303951399311, 16.781204004876233], \"Category\": [\"Default\", \"Default\", \"Default\", \"Default\", \"Default\", \"Default\", \"Default\", \"Default\", \"Default\", \"Default\", \"Default\", \"Default\", \"Default\", \"Default\", \"Default\", \"Default\", \"Default\", \"Default\", \"Default\", \"Default\", \"Default\", \"Default\", \"Default\", \"Default\", \"Default\", \"Default\", \"Default\", \"Default\", \"Default\", \"Default\", \"Topic1\", \"Topic1\", \"Topic1\", \"Topic1\", \"Topic1\", \"Topic1\", \"Topic1\", \"Topic1\", \"Topic1\", \"Topic1\", \"Topic1\", \"Topic1\", \"Topic1\", \"Topic1\", \"Topic1\", \"Topic1\", \"Topic1\", \"Topic1\", \"Topic1\", \"Topic1\", \"Topic1\", \"Topic1\", \"Topic1\", \"Topic1\", \"Topic1\", \"Topic1\", \"Topic1\", \"Topic1\", \"Topic1\", \"Topic1\", \"Topic1\", \"Topic1\", \"Topic1\", \"Topic1\", \"Topic1\", \"Topic1\", \"Topic1\", \"Topic1\", \"Topic1\", \"Topic1\", \"Topic1\", \"Topic1\", \"Topic1\", \"Topic1\", \"Topic1\", \"Topic1\", \"Topic1\", \"Topic1\", \"Topic1\", \"Topic1\", \"Topic1\", \"Topic2\", \"Topic2\", \"Topic2\", \"Topic2\", \"Topic2\", \"Topic2\", \"Topic2\", \"Topic2\", \"Topic2\", \"Topic2\", \"Topic2\", \"Topic2\", \"Topic2\", \"Topic2\", \"Topic2\", \"Topic2\", \"Topic2\", \"Topic2\", \"Topic2\", \"Topic2\", \"Topic2\", \"Topic2\", \"Topic2\", \"Topic2\", \"Topic2\", \"Topic2\", \"Topic2\", \"Topic2\", \"Topic2\", \"Topic2\", \"Topic2\", \"Topic2\", \"Topic2\", \"Topic2\", \"Topic2\", \"Topic2\", \"Topic2\", \"Topic2\", \"Topic2\", \"Topic2\", \"Topic2\", \"Topic2\", \"Topic2\", \"Topic2\", \"Topic2\", \"Topic2\", \"Topic2\", \"Topic2\", \"Topic2\", \"Topic2\", \"Topic2\", \"Topic2\", \"Topic2\", \"Topic2\", \"Topic2\", \"Topic2\", \"Topic3\", \"Topic3\", \"Topic3\", \"Topic3\", \"Topic3\", \"Topic3\", \"Topic3\", \"Topic3\", \"Topic3\", \"Topic3\", \"Topic3\", \"Topic3\", \"Topic3\", \"Topic3\", \"Topic3\", \"Topic3\", \"Topic3\", \"Topic3\", \"Topic3\", \"Topic3\", \"Topic3\", \"Topic3\", \"Topic3\", \"Topic3\", \"Topic3\", \"Topic3\", \"Topic3\", \"Topic3\", \"Topic3\", \"Topic3\", \"Topic3\", \"Topic3\", \"Topic3\", \"Topic3\", \"Topic3\", \"Topic3\", \"Topic3\", \"Topic3\", \"Topic3\", \"Topic3\", \"Topic3\", \"Topic3\", \"Topic3\", \"Topic3\", \"Topic3\", \"Topic3\", \"Topic3\", \"Topic3\", \"Topic3\", \"Topic3\", \"Topic3\", \"Topic3\", \"Topic3\"], \"logprob\": [30.0, 29.0, 28.0, 27.0, 26.0, 25.0, 24.0, 23.0, 22.0, 21.0, 20.0, 19.0, 18.0, 17.0, 16.0, 15.0, 14.0, 13.0, 12.0, 11.0, 10.0, 9.0, 8.0, 7.0, 6.0, 5.0, 4.0, 3.0, 2.0, 1.0, -4.1028, -4.1482, -4.8577, -4.464, -5.3278, -5.4042, -5.4882, -5.2709, -4.9872, -5.5905, -5.7973, -5.799, -5.799, -5.7991, -5.9237, -5.924, -5.9244, -5.9256, -4.713, -6.07, -6.0721, -6.0722, -6.0724, -6.0731, -6.0741, -6.0775, -5.9445, -6.0794, -6.2419, -6.2419, -5.3262, -4.8276, -4.5532, -4.5394, -5.675, -2.8089, -2.7492, -4.5309, -4.3871, -4.3172, -4.8422, -5.0279, -5.1382, -4.8016, -5.1132, -5.451, -5.1662, -5.485, -5.4198, -5.3084, -5.4939, -5.1644, -5.3769, -5.506, -5.6514, -5.654, -5.6576, -5.8232, -5.8237, -5.839, -6.0309, -6.0309, -6.0309, -6.0309, -6.0309, -6.0309, -6.0309, -6.0309, -6.0309, -6.0312, -5.4513, -5.0049, -6.0488, -5.8722, -5.3739, -5.2831, -6.2933, -6.2933, -6.2933, -6.2934, -6.2935, -5.1288, -5.5168, -4.2314, -5.9119, -5.6492, -4.4999, -2.9786, -3.1126, -4.3939, -4.5612, -5.0723, -5.0354, -4.8449, -5.371, -4.8359, -5.2931, -4.6218, -5.0452, -5.6017, -5.0806, -5.4201, -5.3809, -5.3098, -5.4783, -5.3738, -5.5698, -4.8537, -4.8552, -4.946, -5.1591, -5.1613, -5.2912, -5.2912, -5.4384, -5.4437, -5.6058, -5.6091, -5.6115, -5.8131, -5.814, -5.8153, -5.8164, -5.8171, -4.8657, -5.8309, -6.0754, -6.0755, -6.0756, -6.0765, -6.0772, -6.0796, -6.1136, -6.4322, -6.4322, -6.4322, -6.4322, -5.0585, -5.6006, -4.4789, -5.2687, -4.7681, -4.1537, -5.3467, -5.443, -4.4755, -4.8248, -3.1845, -3.394, -4.6256, -5.2401, -4.7455, -5.2338, -5.3335, -5.3215, -5.1389, -5.4111, -5.1127, -5.3918, -5.4351], \"loglift\": [30.0, 29.0, 28.0, 27.0, 26.0, 25.0, 24.0, 23.0, 22.0, 21.0, 20.0, 19.0, 18.0, 17.0, 16.0, 15.0, 14.0, 13.0, 12.0, 11.0, 10.0, 9.0, 8.0, 7.0, 6.0, 5.0, 4.0, 3.0, 2.0, 1.0, 0.7181, 0.7172, 0.7024, 0.6923, 0.6859, 0.6837, 0.6802, 0.6754, 0.6722, 0.6666, 0.6606, 0.6591, 0.6591, 0.659, 0.6528, 0.6525, 0.6521, 0.6512, 0.6487, 0.6411, 0.6393, 0.6391, 0.6389, 0.6384, 0.6374, 0.6344, 0.6332, 0.6328, 0.6249, 0.6249, 0.6223, 0.581, 0.5586, 0.4864, 0.5915, 0.194, 0.1502, 0.3384, 0.2941, 0.2233, 0.1759, 0.2457, 0.2893, -0.0051, 0.1133, 0.2783, -0.0644, 0.3008, 0.0914, -0.4039, -0.3444, 1.1513, 1.1395, 1.1283, 1.1162, 1.1135, 1.1097, 1.0986, 1.0981, 1.0819, 1.0732, 1.0732, 1.0732, 1.0732, 1.0732, 1.0732, 1.0732, 1.0732, 1.0732, 1.0729, 1.0693, 1.064, 1.0562, 1.0523, 1.0434, 1.0394, 1.0339, 1.0339, 1.0338, 1.0338, 1.0337, 1.028, 0.9915, 0.882, 1.0051, 0.9769, 0.6019, -0.0793, -0.1097, 0.4027, 0.3433, 0.5552, 0.4875, 0.3048, 0.6081, 0.1822, 0.4742, -0.0813, 0.2285, 0.6919, -0.2112, 0.3481, 0.1303, -0.0833, 0.3087, -0.348, 0.1596, 1.4351, 1.4334, 1.4293, 1.4157, 1.4134, 1.4, 1.4, 1.3849, 1.3796, 1.3706, 1.3669, 1.3645, 1.3434, 1.3424, 1.3409, 1.3399, 1.3391, 1.3375, 1.3235, 1.3008, 1.3007, 1.3006, 1.2996, 1.299, 1.2962, 1.2585, 1.2261, 1.2261, 1.2261, 1.2261, 1.2115, 1.2137, 1.176, 1.1889, 1.0933, 0.9959, 1.0902, 1.1164, 0.6742, 0.6748, -0.2851, -0.391, 0.0556, 0.717, 0.159, 0.5381, 0.6676, 0.6313, -0.0256, 0.6583, -0.5722, -0.1653, 0.1925]}, \"token.table\": {\"Topic\": [1, 2, 3, 1, 1, 1, 2, 1, 2, 3, 1, 2, 2, 1, 1, 3, 1, 3, 3, 2, 2, 1, 2, 1, 3, 2, 2, 1, 2, 3, 1, 1, 3, 1, 2, 3, 3, 3, 3, 3, 2, 2, 1, 1, 2, 3, 1, 3, 1, 2, 2, 1, 3, 1, 2, 1, 2, 2, 1, 1, 2, 3, 3, 3, 1, 2, 2, 3, 3, 3, 3, 2, 3, 2, 3, 1, 2, 2, 1, 2, 3, 1, 1, 2, 3, 1, 1, 2, 3, 3, 1, 1, 3, 1, 3, 3, 1, 3, 2, 2, 2, 3, 1, 2, 3, 1, 2, 1, 2, 3, 1, 2, 3, 2, 1, 2, 3, 1, 2, 1, 2, 1, 1, 2, 3, 2, 3, 3, 1, 2, 3, 1, 2, 3, 1, 2, 3, 1, 3, 1, 2, 3, 3, 1, 2, 3, 3, 1, 2, 2, 3, 2, 2, 3, 1, 2, 3, 1, 2, 3, 1, 1, 1, 2, 2, 1, 3, 3, 2, 3, 2, 3, 1, 1, 1, 3, 1, 3, 1, 2, 3, 1, 2, 1, 2, 3, 3, 3, 2, 1, 2, 3, 1, 2, 3, 1, 1, 2, 2, 1, 2, 1, 2, 3, 1, 2, 3, 1, 2, 3, 1, 2, 3, 3, 1, 2, 3, 3, 2], \"Freq\": [0.3480032579698106, 0.5800054299496843, 0.8246920363658299, 0.9235047482569733, 0.9834674588806409, 0.9035290649673053, 0.08213900590611867, 0.6476012876571466, 0.11564308708163332, 0.23128617416326663, 0.457880577909813, 0.5283237437420919, 0.8696257754941247, 0.8814358756677102, 0.9030735161269035, 0.11288418951586293, 0.26774541966260207, 0.6693635491565052, 0.90802842810427, 0.9317036347044599, 0.7825862186183132, 0.09264898858323282, 0.8338408972490954, 0.8617197660832768, 0.14361996101387947, 0.9781812606965642, 0.7825868938645725, 0.11328760249273125, 0.11328760249273125, 0.7930132174491187, 0.82302723297365, 0.5194607621231081, 0.43288396843592347, 0.6028318105897872, 0.28132151160856733, 0.12056636211795743, 0.9080292139960068, 0.9234684467322953, 0.6848955238751762, 0.6848233707368915, 0.9781834388704722, 0.868817833489146, 0.9210657749977685, 0.53042543507196, 0.3182552610431761, 0.15912763052158804, 0.8806632166209327, 0.8244236443483681, 0.7834964237818232, 0.1958741059454558, 0.9781761989037332, 0.24495916216288627, 0.7348774864886588, 0.6273960895067632, 0.3764376537040579, 0.9571236852253957, 0.7825862145656074, 0.7825862002160267, 0.9570402852040364, 0.23836191961182832, 0.5363143191266136, 0.29795239951478536, 0.8245403101544111, 0.8229672329839064, 0.14376488194909426, 0.8625892916945656, 0.7833128082689167, 0.6845905628624879, 0.682085440932664, 0.9080293108464, 0.8811073953905778, 0.9781851653323574, 0.9180260255328255, 0.19525093893433193, 0.7810037557373277, 0.21634875138082743, 0.8653950055233097, 0.8695541488466098, 0.6282997463802199, 0.27924433172454216, 0.06981108293113554, 0.923518151343022, 0.9571235107518795, 0.8733402803284774, 0.14555671338807957, 0.8807559845670984, 0.34423276949287995, 0.27538621559430393, 0.4130793233914559, 0.9180195526610578, 0.9840774314494968, 0.9246363603860799, 0.8631254878453827, 0.8806989028694688, 0.6848905654863441, 0.8631256559330717, 0.9671585578513643, 0.037198406071206315, 0.9487333695543236, 0.9315790894201541, 0.30263343534847476, 0.7565835883711869, 0.6341884614526481, 0.14635118341214956, 0.1951349112161994, 0.5591240073512166, 0.4193430055134124, 0.8539000365269547, 0.03557916818862311, 0.10673750456586933, 0.5186920761443113, 0.27929573330847535, 0.1994969523631967, 0.7825863199026694, 0.5829788886233443, 0.26342009041499265, 0.15114267482827445, 0.9235456685054632, 0.7825864303944419, 0.964400703211078, 0.8719499913710163, 0.9732524227585755, 0.24852948163452004, 0.3313726421793601, 0.4970589632690401, 0.7825875451403224, 0.8246489649695545, 0.9850626841313549, 0.3180849721188698, 0.4048354190603798, 0.26025134082452983, 0.5567707000783445, 0.27254509794044834, 0.16742056016341827, 0.670028550507047, 0.2512607064401426, 0.08375356881338088, 0.9227026760614023, 0.06151351173742683, 0.3325223782371461, 0.07389386183047691, 0.5911508946438153, 0.8244806795152163, 0.1478070096447349, 0.40646927652302095, 0.44342102893420465, 0.6848964131638661, 0.881232230558209, 0.7825875451403224, 0.10596830117131206, 0.8477464093704965, 0.7825833595763071, 0.7875700550188844, 0.13126167583648074, 0.8808031680542185, 0.2733213409324783, 0.6833033523311957, 0.41947121557786565, 0.1573017058416996, 0.41947121557786565, 0.9443238457016019, 0.8946097225636664, 0.16174917275285955, 0.8087458637642978, 0.7825869238463993, 0.9469305112603745, 0.9232860204498581, 0.9080284535594341, 0.8093475287603742, 0.10116844109504677, 0.8357256965904573, 0.11938938522720818, 0.956937658877802, 0.9237035838714298, 0.556169553221568, 0.46347462768464004, 0.8806201719820692, 0.6848358991855013, 0.913541295345358, 0.0456770647672679, 0.0456770647672679, 0.42343784224967856, 0.5081254106996143, 0.467238764475407, 0.4412810553378844, 0.07787312741256784, 0.9217959871958213, 0.9219397834338828, 0.8695721518297409, 0.3756776658966727, 0.4830141418671506, 0.16100471395571686, 0.24747821770719444, 0.32997095694292594, 0.4124636961786574, 0.8230278045867383, 0.8804880429419055, 0.9781787900304935, 0.9783912370532527, 0.6597434723429121, 0.32987173617145604, 0.07528493494024106, 0.22585480482072318, 0.6775644144621695, 0.342923774800452, 0.41150852976054236, 0.2743390198403616, 0.274088845991028, 0.47965548048429896, 0.20556663449327098, 0.07126535730535224, 0.7126535730535225, 0.21379607191605673, 0.9183833594540902, 0.5831173837276272, 0.35634951227799444, 0.06479082041418081, 0.7880432510493671, 0.9313659253910784], \"Term\": [\"aksi\", \"aksi\", \"aktif\", \"ampas\", \"ampo\", \"anak\", \"anak\", \"anggota\", \"anggota\", \"anggota\", \"aniaya\", \"aniaya\", \"aparat\", \"atm\", \"bakar\", \"bakar\", \"banjarmasin\", \"banjarmasin\", \"barang\", \"bengkulu\", \"bharaka\", \"brigadir\", \"brigadir\", \"briptu\", \"briptu\", \"budak\", \"budiarta\", \"bukti\", \"bukti\", \"bukti\", \"cirebon\", \"curi\", \"curi\", \"duga\", \"duga\", \"duga\", \"en\", \"etik\", \"ferdy\", \"fiktif\", \"gila\", \"gorontalo\", \"hormat\", \"hukum\", \"hukum\", \"hukum\", \"hut\", \"informasi\", \"inisial\", \"inisial\", \"irfan\", \"irjen\", \"irjen\", \"istri\", \"istri\", \"jilat\", \"jt\", \"juke\", \"kabupaten\", \"kait\", \"kait\", \"kait\", \"kalsel\", \"kaltara\", \"kemudi\", \"kemudi\", \"kepala satu\", \"kepp\", \"kerja\", \"kkep\", \"klik\", \"ko\", \"kode\", \"komisi\", \"komisi\", \"kompol\", \"kompol\", \"konsumsi\", \"korban\", \"korban\", \"korban\", \"korupsi\", \"kue\", \"lampung\", \"lampung\", \"langsung\", \"lapor\", \"lapor\", \"lapor\", \"lengkap\", \"libat\", \"lubuklinggau\", \"mahfud\", \"makassar\", \"markas besar\", \"md\", \"medan\", \"medan\", \"media\", \"merah\", \"metro\", \"metro\", \"milik\", \"milik\", \"milik\", \"mobil\", \"mobil\", \"motor\", \"motor\", \"motor\", \"narkotika psikotropika dan obat larang\", \"narkotika psikotropika dan obat larang\", \"narkotika psikotropika dan obat larang\", \"nissan\", \"oknum\", \"oknum\", \"oknum\", \"online\", \"operasi\", \"orang\", \"ott\", \"pecat\", \"periksa\", \"periksa\", \"periksa\", \"pn\", \"pohon\", \"pol\", \"polda\", \"polda\", \"polda\", \"polisi\", \"polisi\", \"polisi\", \"polres\", \"polres\", \"polres\", \"polrestabes\", \"polrestabes\", \"polri\", \"polri\", \"polri\", \"profesi\", \"propam\", \"propam\", \"propam\", \"putra\", \"rampok\", \"rangkasbitung\", \"rupiah\", \"rupiah\", \"sabtu\", \"sabusabu\", \"sabusabu\", \"samapta\", \"sambo\", \"sambo\", \"sangka\", \"sangka\", \"sangka\", \"selatan\", \"selingkuh\", \"senpi\", \"senpi\", \"sentil\", \"sepeda\", \"sidang\", \"sita\", \"sopir\", \"sopir\", \"sosial\", \"sosial\", \"sulawesi\", \"sumatera\", \"sumut\", \"sumut\", \"sungguh\", \"suruh\", \"tahan\", \"tahan\", \"tahan\", \"tangan\", \"tangan\", \"tangkap\", \"tangkap\", \"tangkap\", \"taut\", \"teddy\", \"tegak\", \"tembak\", \"tembak\", \"tembak\", \"tindak\", \"tindak\", \"tindak\", \"tinggal\", \"tiri\", \"todong\", \"travel\", \"tugas\", \"tugas\", \"uang\", \"uang\", \"uang\", \"via\", \"via\", \"via\", \"video\", \"video\", \"video\", \"viral\", \"viral\", \"viral\", \"vonis\", \"warga\", \"warga\", \"warga\", \"wartawan\", \"wil\"]}, \"R\": 30, \"lambda.step\": 0.01, \"plot.opts\": {\"xlab\": \"PC1\", \"ylab\": \"PC2\"}, \"topic.order\": [1, 2, 3]};\n",
              "\n",
              "function LDAvis_load_lib(url, callback){\n",
              "  var s = document.createElement('script');\n",
              "  s.src = url;\n",
              "  s.async = true;\n",
              "  s.onreadystatechange = s.onload = callback;\n",
              "  s.onerror = function(){console.warn(\"failed to load library \" + url);};\n",
              "  document.getElementsByTagName(\"head\")[0].appendChild(s);\n",
              "}\n",
              "\n",
              "if(typeof(LDAvis) !== \"undefined\"){\n",
              "   // already loaded: just create the visualization\n",
              "   !function(LDAvis){\n",
              "       new LDAvis(\"#\" + \"ldavis_el631401877192980003005483492\", ldavis_el631401877192980003005483492_data);\n",
              "   }(LDAvis);\n",
              "}else if(typeof define === \"function\" && define.amd){\n",
              "   // require.js is available: use it to load d3/LDAvis\n",
              "   require.config({paths: {d3: \"https://d3js.org/d3.v5\"}});\n",
              "   require([\"d3\"], function(d3){\n",
              "      window.d3 = d3;\n",
              "      LDAvis_load_lib(\"https://cdn.jsdelivr.net/gh/bmabey/pyLDAvis/pyLDAvis/js/ldavis.v3.0.0.js\", function(){\n",
              "        new LDAvis(\"#\" + \"ldavis_el631401877192980003005483492\", ldavis_el631401877192980003005483492_data);\n",
              "      });\n",
              "    });\n",
              "}else{\n",
              "    // require.js not available: dynamically load d3 & LDAvis\n",
              "    LDAvis_load_lib(\"https://d3js.org/d3.v5.js\", function(){\n",
              "         LDAvis_load_lib(\"https://cdn.jsdelivr.net/gh/bmabey/pyLDAvis/pyLDAvis/js/ldavis.v3.0.0.js\", function(){\n",
              "                 new LDAvis(\"#\" + \"ldavis_el631401877192980003005483492\", ldavis_el631401877192980003005483492_data);\n",
              "            })\n",
              "         });\n",
              "}\n",
              "</script>"
            ]
          },
          "metadata": {},
          "execution_count": 37
        }
      ]
    }
  ]
}